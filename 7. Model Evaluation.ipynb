{
 "cells": [
  {
   "cell_type": "markdown",
   "id": "1ce0e064",
   "metadata": {},
   "source": [
    "# Model Evaluation"
   ]
  },
  {
   "cell_type": "markdown",
   "id": "5ba75046",
   "metadata": {},
   "source": [
    "Contents:\n",
    "1. [Overfitting vs Underfitting](#1)\n",
    "2. [Validation and Learning Curves](#2)\n",
    "3. [Bias vs Variance](#3)\n",
    "4. [Baseline Comparison](#4)\n",
    "5. [Cross Validation](#5)\n",
    "    1. [Intro](#5.1)\n",
    "    2. [Strategies](#5.2)\n",
    "        1. [Stratification](#5.2.1)\n",
    "        2. [Sample Grouping](#5.2.2)\n",
    "        3. [Non IID Data](#5.2.3)\n",
    "    3. [Nested](#5.3)\n",
    "6. [Classification Metrics](#6)\n",
    "7. [Regression Metrics](#7)"
   ]
  },
  {
   "cell_type": "markdown",
   "id": "f66c4ab8",
   "metadata": {},
   "source": [
    "<a id=\"1\" ></a>\n",
    "## Overfitting vs Underfitting\n"
   ]
  },
  {
   "cell_type": "markdown",
   "id": "46be7877",
   "metadata": {},
   "source": [
    "<img src=\"diagrams/OverfitVUnderfit.jpg\" width=600/>"
   ]
  },
  {
   "cell_type": "markdown",
   "id": "271b6d18",
   "metadata": {},
   "source": [
    "If a model __underfits__ (left), it does not capture enough information from the training set to model the relationship accurately. \n",
    "\n",
    "If a model __overfits__ (right), it captures too much information from the training set, and models the training set very accurately but will fail to accurately model new data, as it may have taken in too much of the __noise__.\n"
   ]
  },
  {
   "cell_type": "markdown",
   "id": "38f2d7af",
   "metadata": {},
   "source": [
    "<img src=\"diagrams/OverfitVUnderfitNewData.jpg\" width=600/>"
   ]
  },
  {
   "cell_type": "markdown",
   "id": "04e1311f",
   "metadata": {},
   "source": [
    "<table>\n",
    "    <tr>\n",
    "        <td> <img src=\"diagrams/Underfit.jpg\" width=700/></td> \n",
    "        <td> <img src=\"diagrams/Overfit.jpg\" width=700/></td>\n",
    "    </tr>\n",
    "</table>"
   ]
  },
  {
   "cell_type": "markdown",
   "id": "1392d6e7",
   "metadata": {},
   "source": [
    "<a id=\"2\" ></a>\n",
    "## Validation and Learning Curves"
   ]
  },
  {
   "cell_type": "markdown",
   "id": "877c3994",
   "metadata": {},
   "source": [
    "### (i) Validation Curves"
   ]
  },
  {
   "cell_type": "markdown",
   "id": "c1b05c80",
   "metadata": {},
   "source": [
    "A validation curve looks at how the train and test errors vary as an aspect of the model is changed."
   ]
  },
  {
   "cell_type": "markdown",
   "id": "9b30e1f1",
   "metadata": {},
   "source": [
    "<img src=\"diagrams/Validation%20Curve.jpg\" width=600/>"
   ]
  },
  {
   "cell_type": "code",
   "execution_count": 119,
   "id": "4b23b347",
   "metadata": {},
   "outputs": [],
   "source": [
    "import pandas as pd\n",
    "import numpy as np\n",
    "import matplotlib.pyplot as plt\n",
    "import seaborn as sns"
   ]
  },
  {
   "cell_type": "code",
   "execution_count": 2,
   "id": "e2fb1b6a",
   "metadata": {},
   "outputs": [],
   "source": [
    "from sklearn.datasets import fetch_california_housing\n",
    "\n",
    "housing = fetch_california_housing(as_frame=True)\n",
    "data, target = housing.data, housing.target\n",
    "target *= 100  # rescale the target in k$"
   ]
  },
  {
   "cell_type": "code",
   "execution_count": 3,
   "id": "a0d13c92",
   "metadata": {},
   "outputs": [],
   "source": [
    "from sklearn.tree import DecisionTreeRegressor\n",
    "\n",
    "regressor = DecisionTreeRegressor()"
   ]
  },
  {
   "cell_type": "code",
   "execution_count": 4,
   "id": "ed78bf74",
   "metadata": {},
   "outputs": [],
   "source": [
    "from sklearn.model_selection import cross_validate, ShuffleSplit\n",
    "\n",
    "cv = ShuffleSplit(n_splits=30, test_size=0.2)"
   ]
  },
  {
   "cell_type": "code",
   "execution_count": 5,
   "id": "f1b1abf4",
   "metadata": {},
   "outputs": [
    {
     "name": "stdout",
     "output_type": "stream",
     "text": [
      "Wall time: 23.4 s\n"
     ]
    }
   ],
   "source": [
    "%%time\n",
    "from sklearn.model_selection import validation_curve\n",
    "\n",
    "# list of depths to try\n",
    "max_depth = [1, 5, 10, 15, 20, 25]\n",
    "\n",
    "# return results using validation_curve() function\n",
    "train_scores, test_scores = validation_curve(\n",
    "    regressor, data, target, param_name=\"max_depth\", param_range=max_depth,\n",
    "    cv=cv, scoring=\"neg_mean_absolute_error\", n_jobs=2)\n",
    "# get errors from score\n",
    "train_errors, test_errors = -train_scores, -test_scores"
   ]
  },
  {
   "cell_type": "code",
   "execution_count": 6,
   "id": "f2b536af",
   "metadata": {},
   "outputs": [
    {
     "data": {
      "image/png": "[encoded data removed]",
      "text/plain": [
       "<Figure size 432x288 with 1 Axes>"
      ]
     },
     "metadata": {
      "needs_background": "light"
     },
     "output_type": "display_data"
    }
   ],
   "source": [
    "# plot training errors\n",
    "plt.errorbar(max_depth, train_errors.mean(axis=1),\n",
    "             # yerr is the std at each point\n",
    "             yerr=train_errors.std(axis=1), label='Training error')\n",
    "# plot training errors\n",
    "plt.errorbar(max_depth, test_errors.mean(axis=1),\n",
    "             yerr=test_errors.std(axis=1), label='Testing error')\n",
    "plt.legend()\n",
    "\n",
    "plt.xlabel(\"Maximum depth of decision tree\")\n",
    "plt.ylabel(\"Mean absolute error (k$)\")\n",
    "_ = plt.title(\"Validation curve for decision tree\")"
   ]
  },
  {
   "cell_type": "markdown",
   "id": "0a638e1f",
   "metadata": {},
   "source": [
    "The validation curve can be divided into three areas:\n",
    "\n",
    "- For `max_depth < 10`, the decision tree underfits. The training error and therefore the testing error are both high. The model is too constrained and cannot capture much of the variability of the target variable.\n",
    "\n",
    "- At `max_depth = 10` we have the parameter for which the decision tree generalizes the best. It is flexible enough to capture a fraction of the variability of the target that generalizes, while not memorizing all of the noise in the target.\n",
    "\n",
    "- For `max_depth > 10`, the decision tree overfits. The training error becomes very small, while the testing error increases. In this region, the models create decisions specifically for noisy samples harming its ability to generalize to test data.\n",
    "\n",
    "Note that for `max_depth = 10`, the model __overfits a bit__ as there is a gap between the training error and the testing error. It can also potentially __underfit__ also a bit at the same time, because the __training error is still far from zero__ (more than 30 k$), meaning that the model might still be too constrained to model interesting parts of the data. However, the testing error is minimal, and this is what really matters. This is the best compromise we could reach by just tuning this parameter.\n",
    "\n",
    "Be aware that looking at the __mean__ errors is quite limiting. We also included the __standard deviation__ to assess the dispersion of the score. In this case the variance of the errors is small compared to the respective error values, so the conclusion is quite clear"
   ]
  },
  {
   "cell_type": "markdown",
   "id": "2eb73d71",
   "metadata": {},
   "source": [
    "### (ii) Learning Curves"
   ]
  },
  {
   "cell_type": "markdown",
   "id": "b2e51b80",
   "metadata": {},
   "source": [
    "Similar to a validation curve, a __learning curve__ compares the train and test errors as the sizes of the train and test sets vary."
   ]
  },
  {
   "cell_type": "markdown",
   "id": "ec5d3091",
   "metadata": {},
   "source": [
    "<table>\n",
    "    <tr>\n",
    "        <td> <img src=\"diagrams/LearningCurve1.jpg\" /></td> \n",
    "        <td> <img src=\"diagrams/LearningCurve2.jpg\" /></td>\n",
    "        <td> <img src=\"diagrams/LearningCurve3.jpg\" /></td>\n",
    "    </tr>\n",
    "</table>"
   ]
  },
  {
   "cell_type": "code",
   "execution_count": 7,
   "id": "56888807",
   "metadata": {},
   "outputs": [
    {
     "data": {
      "text/plain": [
       "array([0.1  , 0.325, 0.55 , 0.775, 1.   ])"
      ]
     },
     "execution_count": 7,
     "metadata": {},
     "output_type": "execute_result"
    }
   ],
   "source": [
    "# vary the size of the training set from 10% to 100%\n",
    "train_sizes = np.linspace(0.1, 1.0, num=5, endpoint=True)\n",
    "train_sizes"
   ]
  },
  {
   "cell_type": "code",
   "execution_count": 8,
   "id": "eb6f6827",
   "metadata": {},
   "outputs": [],
   "source": [
    "cv = ShuffleSplit(n_splits=30, test_size=0.2)"
   ]
  },
  {
   "cell_type": "code",
   "execution_count": 9,
   "id": "16b842cd",
   "metadata": {},
   "outputs": [],
   "source": [
    "from sklearn.model_selection import learning_curve\n",
    "\n",
    "results = learning_curve(\n",
    "    regressor, data, target, train_sizes=train_sizes, cv=cv,\n",
    "    scoring=\"neg_mean_absolute_error\", n_jobs=2)\n",
    "\n",
    "train_size, train_scores, test_scores = results#[:3]\n",
    "# Convert the scores into errors\n",
    "train_errors, test_errors = -train_scores, -test_scores"
   ]
  },
  {
   "cell_type": "code",
   "execution_count": 10,
   "id": "c151ba9f",
   "metadata": {},
   "outputs": [
    {
     "data": {
      "image/png": "[encoded data removed]",
      "text/plain": [
       "<Figure size 432x288 with 1 Axes>"
      ]
     },
     "metadata": {
      "needs_background": "light"
     },
     "output_type": "display_data"
    }
   ],
   "source": [
    "plt.errorbar(train_size, train_errors.mean(axis=1),\n",
    "             yerr=train_errors.std(axis=1), label=\"Training error\")\n",
    "plt.errorbar(train_size, test_errors.mean(axis=1),\n",
    "             yerr=test_errors.std(axis=1), label=\"Testing error\")\n",
    "plt.legend()\n",
    "\n",
    "plt.xscale(\"log\")\n",
    "plt.xlabel(\"Number of samples in the training set\")\n",
    "plt.ylabel(\"Mean absolute error (k$)\")\n",
    "_ = plt.title(\"Learning curve for decision tree\")"
   ]
  },
  {
   "cell_type": "markdown",
   "id": "70132f05",
   "metadata": {},
   "source": [
    "Looking at the training error alone, we see that we get an error of 0 k$. It means that the trained model (i.e. decision tree) is clearly __overfitting the training data__.\n",
    "\n",
    "Looking at the testing error alone, we observe that the more samples are added into the training set, the lower the testing error becomes. Also, we are searching for the __plateau of the testing error__ for which there is no benefit to adding samples anymore or assessing the potential gain of adding more samples into the training set.\n",
    "\n",
    "If we achieve a plateau and adding new samples in the training set does not reduce the testing error, we might have reach the __Bayes error rate__ using the available model. Using a more complex model might be the only possibility to reduce the testing error further."
   ]
  },
  {
   "cell_type": "markdown",
   "id": "84edc07e",
   "metadata": {},
   "source": [
    "<a id=\"3\" ></a>\n",
    "## Bias vs Variance"
   ]
  },
  {
   "cell_type": "markdown",
   "id": "23cebff7",
   "metadata": {},
   "source": [
    "<table>\n",
    "    <tr>\n",
    "        <td> <img src=\"diagrams/UnderfitBias.jpg\" width=700/></td> \n",
    "        <td> <img src=\"diagrams/OverfitVariance.jpg\" width=700/></td>\n",
    "    </tr>\n",
    "</table>"
   ]
  },
  {
   "cell_type": "markdown",
   "id": "c523fbd9",
   "metadata": {},
   "source": [
    "Machine learning operates with finite training set:\n",
    "\n",
    "What if we used a different training set?\n",
    "\n",
    "- How different would the resulting learned prediction functions be?\n",
    "\n",
    "- What would be their average test error?\n",
    "\n",
    "The __overfitting__ problem is one of __variance__: on __average__, the predictions are not necessarily off, but __each tend to fall far from the target__. This can be seen by their large spread around the best possible prediction.\n",
    "\n",
    "For our machine learning example, this situation corresponds to a high complexity model class that is affected by how the noise in the data generating process makes the observations vary from one small training set to another.\n",
    "\n",
    "Now consider an __underfitting model__: polynomial of degree 1 (which is just a linear prediction function).\n",
    "\n",
    "Since the true generative process is non-linear, our fitted prediction function is bound to make prediction errors for some regions of the input space. Upon resampling the training set, one can see that the resulting training function stays very similar: the slope moves a bit.\n",
    "Even more importantly, for a __given region of the input space__, the __underfitting models tend to make similar kinds of prediction errors__.\n",
    "\n",
    "__Underfitting__ leads to __systematic biases__: the predictions cannot be on target on average, because the model that we used to predict is systematically off the data-generating process.\n",
    "\n",
    "This __bias-variance tradeoff__ is classic in statistics. Often, adding a little bit of bias helps reducing the variance. For instance, as with throwing darts at a target, throwing the darts less strong might lead to being below the target on average, but with less scatter.\n",
    "\n",
    "In summary:\n",
    "\n",
    "__High bias == underfitting:__\n",
    "\n",
    "- systematic prediction errors\n",
    "- the model prefers to ignore some aspects of the data\n",
    "- mispecified models\n",
    "\n",
    "__High variance == overfitting:__\n",
    "\n",
    "- prediction errors without obvious structure\n",
    "- small change in the training set, large change in model\n",
    "- unstable models\n",
    "\n",
    "The bias can come from the choice of the model family."
   ]
  },
  {
   "cell_type": "markdown",
   "id": "1e530214",
   "metadata": {},
   "source": [
    "<a id=\"4\" ></a>\n",
    "## Baseline Comparison"
   ]
  },
  {
   "cell_type": "markdown",
   "id": "8f543a50",
   "metadata": {},
   "source": [
    "When evaluating a models performance it is good to have a baseline to compare it to. In this example we will use a DummyRegressor, which simply predicts the average/mean target value, and does __not use any information from the input features__."
   ]
  },
  {
   "cell_type": "code",
   "execution_count": 11,
   "id": "8871c352",
   "metadata": {},
   "outputs": [],
   "source": [
    "data, target = fetch_california_housing(return_X_y=True, as_frame=True)\n",
    "target *= 100  # rescale the target in k$\n",
    "\n",
    "cv = ShuffleSplit(n_splits=30, test_size=0.2, random_state=0)"
   ]
  },
  {
   "cell_type": "code",
   "execution_count": 12,
   "id": "240174ae",
   "metadata": {},
   "outputs": [
    {
     "data": {
      "text/plain": [
       "count    30.000000\n",
       "mean     45.694680\n",
       "std       1.153416\n",
       "min      43.354665\n",
       "25%      44.807922\n",
       "50%      45.690409\n",
       "75%      46.432019\n",
       "max      48.134590\n",
       "Name: Decision tree regressor, dtype: float64"
      ]
     },
     "execution_count": 12,
     "metadata": {},
     "output_type": "execute_result"
    }
   ],
   "source": [
    "# create model to evaulate\n",
    "from sklearn.tree import DecisionTreeRegressor\n",
    "from sklearn.model_selection import cross_validate\n",
    "\n",
    "regressor = DecisionTreeRegressor()\n",
    "cv_results_tree_regressor = cross_validate(\n",
    "    regressor, data, target, cv=cv, scoring=\"neg_mean_absolute_error\", n_jobs=2\n",
    ")\n",
    "\n",
    "errors_tree_regressor = pd.Series(\n",
    "    -cv_results_tree_regressor[\"test_score\"], name=\"Decision tree regressor\"\n",
    ")\n",
    "errors_tree_regressor.describe()"
   ]
  },
  {
   "cell_type": "code",
   "execution_count": 13,
   "id": "7b4d367a",
   "metadata": {},
   "outputs": [
    {
     "data": {
      "text/plain": [
       "count    30.000000\n",
       "mean     91.140009\n",
       "std       0.821140\n",
       "min      89.757566\n",
       "25%      90.543652\n",
       "50%      91.034555\n",
       "75%      91.979007\n",
       "max      92.477244\n",
       "Name: Dummy regressor, dtype: float64"
      ]
     },
     "execution_count": 13,
     "metadata": {},
     "output_type": "execute_result"
    }
   ],
   "source": [
    "# create baseline for comparison\n",
    "from sklearn.dummy import DummyRegressor\n",
    "\n",
    "dummy = DummyRegressor(strategy=\"mean\")\n",
    "result_dummy = cross_validate(\n",
    "    dummy, data, target, cv=cv, scoring=\"neg_mean_absolute_error\", n_jobs=2\n",
    ")\n",
    "errors_dummy_regressor = pd.Series(\n",
    "    -result_dummy[\"test_score\"], name=\"Dummy regressor\"\n",
    ")\n",
    "errors_dummy_regressor.describe()"
   ]
  },
  {
   "cell_type": "code",
   "execution_count": 14,
   "id": "4e606ce9",
   "metadata": {},
   "outputs": [
    {
     "data": {
      "image/png": "[encoded data removed]",
      "text/plain": [
       "<Figure size 432x288 with 1 Axes>"
      ]
     },
     "metadata": {
      "needs_background": "light"
     },
     "output_type": "display_data"
    }
   ],
   "source": [
    "# combine results\n",
    "all_errors = pd.concat(\n",
    "    [errors_tree_regressor, errors_dummy_regressor],\n",
    "    axis=1,\n",
    ")\n",
    "# plot errors\n",
    "bins = np.linspace(start=0, stop=100, num=80)\n",
    "all_errors.plot.hist(bins=bins, density=True, edgecolor=\"black\")\n",
    "plt.legend(bbox_to_anchor=(1.05, 0.8), loc=\"upper left\")\n",
    "plt.xlabel(\"Mean absolute error (k$)\")\n",
    "_ = plt.title(\"Cross-validation testing errors\")"
   ]
  },
  {
   "cell_type": "markdown",
   "id": "57402739",
   "metadata": {},
   "source": [
    "We see that the generalization performance of our decision tree is far from being perfect: the price predictions are off by more than 45,000 US dollars on average. However it is much better than the mean price baseline. So this confirms that it is possible to predict the housing price much better by using a model that takes into account the values of the input features (housing location, size, neighborhood income…). Such a model makes more informed predictions and approximately divide the error rate by a factor of 2 compared to the baseline that ignores the input features.\n",
    "\n",
    "Here we used the __mean__ price as the baseline prediction. We could have used the __median__ instead. For this particular example, using the mean instead of the median does not make much of a difference but this could have been the case for dataset with __extreme outliers__."
   ]
  },
  {
   "cell_type": "markdown",
   "id": "cc9b1fa7",
   "metadata": {},
   "source": [
    "<a id=\"5\" ></a>\n",
    "# Cross Validation"
   ]
  },
  {
   "cell_type": "markdown",
   "id": "86ba5cbd",
   "metadata": {},
   "source": [
    "<a id=\"5.1\" ></a>\n",
    "## Introduction "
   ]
  },
  {
   "cell_type": "markdown",
   "id": "3ddead4b",
   "metadata": {},
   "source": [
    "In machine learning, when training a model we split the original data into a __training set__ and a __testing set__. The score of a model will in general __depend on the way we make such a split__.\n",
    "\n",
    "One downside of doing a __single split__ is that it does not give any information about this __variability__ or the __robustness__ of the evaluation of our predictive model. Another downside, in a setting where the amount of data is small, is that the data available for training and testing will be even smaller after splitting.\n",
    "\n",
    "Instead, we can use __cross-validation__. Cross-validation consists of __repeating the procedure__ such that the training and testing sets are __different each time__. Generalization performance metrics are collected for each repetition and then __aggregated__. As a result we can assess the variability of our measure of the model’s generalization performance.\n",
    "\n",
    "Cross-validation is therefore __computationally intensive__ because it requires __training several models__ instead of __one__."
   ]
  },
  {
   "cell_type": "code",
   "execution_count": 15,
   "id": "98a4a5a9",
   "metadata": {},
   "outputs": [],
   "source": [
    "data, target = fetch_california_housing(return_X_y=True, as_frame=True)\n",
    "target *= 100  # rescale the target in k$"
   ]
  },
  {
   "cell_type": "markdown",
   "id": "f75796c9",
   "metadata": {},
   "source": [
    "### (i) KFold"
   ]
  },
  {
   "cell_type": "markdown",
   "id": "bc05ab46",
   "metadata": {},
   "source": [
    "This strategy of cross-validation splits the entire dataset into `k` partitions. The `fit/score` procedure is repeated `K` times where at each iteration `K - 1` partitions are used to fit the model and 1 partition is used to score."
   ]
  },
  {
   "cell_type": "markdown",
   "id": "84e22e1a",
   "metadata": {},
   "source": [
    "<img src=\"diagrams/KFold.jpg\" width=600/>"
   ]
  },
  {
   "cell_type": "code",
   "execution_count": 16,
   "id": "9c740f05",
   "metadata": {},
   "outputs": [
    {
     "data": {
      "text/plain": [
       "DecisionTreeRegressor(random_state=0)"
      ]
     },
     "execution_count": 16,
     "metadata": {},
     "output_type": "execute_result"
    }
   ],
   "source": [
    "regressor = DecisionTreeRegressor(random_state=0)\n",
    "regressor.fit(data, target)"
   ]
  },
  {
   "cell_type": "code",
   "execution_count": 17,
   "id": "a1c29b99",
   "metadata": {},
   "outputs": [
    {
     "name": "stdout",
     "output_type": "stream",
     "text": [
      "Wall time: 869 ms\n"
     ]
    },
    {
     "data": {
      "text/plain": [
       "{'fit_time': array([0.15526223, 0.14998651, 0.16968608, 0.20134783, 0.1637249 ]),\n",
       " 'score_time': array([0.00509453, 0.0100174 , 0.        , 0.00300264, 0.00600362]),\n",
       " 'test_score': array([0.26291527, 0.41947109, 0.44492564, 0.23357874, 0.40788361])}"
      ]
     },
     "execution_count": 17,
     "metadata": {},
     "output_type": "execute_result"
    }
   ],
   "source": [
    "%%time\n",
    "\n",
    "cv_result = cross_validate(regressor, data, target, cv=5)\n",
    "cv_result"
   ]
  },
  {
   "cell_type": "markdown",
   "id": "1cff6d32",
   "metadata": {},
   "source": [
    "The output of `cross_validate` is a Python dictionary, which by default contains three entries:\n",
    "\n",
    "(i) the time to train the model on the training data for each fold,\n",
    "\n",
    "(ii) the time to predict with the model on the testing data for each fold,\n",
    "\n",
    "(iii) the default score on the testing data for each fold.\n",
    "\n",
    "Setting `cv=5` created 5 distinct splits to get 5 variations for the training and testing sets. Each training set is used to fit one model which is then scored on the matching test set. The default strategy when setting `cv=int` is the `K-fold cross-validation` where K corresponds to the (integer) number of splits. Setting cv=5 or cv=10 is a common practice, as it is a good trade-off between computation time and stability of the estimated variability.\n",
    "\n",
    "Note that by __default__ the `cross_validate` function __discards the K models__ that were trained on the different overlapping subset of the dataset. The goal of cross-validation is not to train a model, but rather to estimate approximately the generalization performance of a model that would have been trained to the full training set, along with an estimate of the variability (uncertainty on the generalization accuracy).\n",
    "\n",
    "You can pass additional parameters to `sklearn.model_selection.cross_validate` to collect additional information, such as the training scores of the models obtained on each round or even return the models themselves instead of discarding them. "
   ]
  },
  {
   "cell_type": "code",
   "execution_count": 18,
   "id": "8192da5c",
   "metadata": {},
   "outputs": [
    {
     "name": "stdout",
     "output_type": "stream",
     "text": [
      "The mean cross-validation accuracy is: 0.354 +/- 0.087\n"
     ]
    }
   ],
   "source": [
    "scores = cv_result[\"test_score\"]\n",
    "print(\n",
    "    \"The mean cross-validation accuracy is: \"\n",
    "    f\"{scores.mean():.3f} +/- {scores.std():.3f}\"\n",
    ")"
   ]
  },
  {
   "cell_type": "markdown",
   "id": "58db765e",
   "metadata": {},
   "source": [
    "### (ii) Shuffle-Split"
   ]
  },
  {
   "cell_type": "markdown",
   "id": "2bbce3a3",
   "metadata": {},
   "source": [
    "At each iteration of this strategy we:\n",
    "\n",
    "- randomly shuffle the order of the samples of a copy of the full dataset;\n",
    "\n",
    "- split the shuffled dataset into a train and a test set;\n",
    "\n",
    "- train a new model on the train set;\n",
    "\n",
    "- evaluate the testing error on the test set.\n",
    "\n",
    "We repeat this procedure `n_splits` times. Keep in mind that the computational cost increases with `n_splits`. The diagram below represents a shuffle-split using `n_splits=5`."
   ]
  },
  {
   "cell_type": "markdown",
   "id": "e0269630",
   "metadata": {},
   "source": [
    "<img src=\"diagrams/ShuffleSplit.jpg\" width=600/>"
   ]
  },
  {
   "cell_type": "code",
   "execution_count": 19,
   "id": "96a90b1b",
   "metadata": {},
   "outputs": [],
   "source": [
    "from sklearn.model_selection import ShuffleSplit\n",
    "\n",
    "cv = ShuffleSplit(n_splits=40, test_size=0.3, random_state=0)\n",
    "\n",
    "# using the same model and data as before\n",
    "cv_results = cross_validate(\n",
    "    regressor, data, target, cv=cv, scoring=\"neg_mean_absolute_error\")"
   ]
  },
  {
   "cell_type": "code",
   "execution_count": 20,
   "id": "e34efd67",
   "metadata": {},
   "outputs": [
    {
     "data": {
      "text/html": [
       "<div>\n",
       "<style scoped>\n",
       "    .dataframe tbody tr th:only-of-type {\n",
       "        vertical-align: middle;\n",
       "    }\n",
       "\n",
       "    .dataframe tbody tr th {\n",
       "        vertical-align: top;\n",
       "    }\n",
       "\n",
       "    .dataframe thead th {\n",
       "        text-align: right;\n",
       "    }\n",
       "</style>\n",
       "<table border=\"1\" class=\"dataframe\">\n",
       "  <thead>\n",
       "    <tr style=\"text-align: right;\">\n",
       "      <th></th>\n",
       "      <th>fit_time</th>\n",
       "      <th>score_time</th>\n",
       "      <th>test_score</th>\n",
       "    </tr>\n",
       "  </thead>\n",
       "  <tbody>\n",
       "    <tr>\n",
       "      <th>0</th>\n",
       "      <td>0.146398</td>\n",
       "      <td>0.000000</td>\n",
       "      <td>-46.909797</td>\n",
       "    </tr>\n",
       "    <tr>\n",
       "      <th>1</th>\n",
       "      <td>0.139805</td>\n",
       "      <td>0.000000</td>\n",
       "      <td>-46.421170</td>\n",
       "    </tr>\n",
       "    <tr>\n",
       "      <th>2</th>\n",
       "      <td>0.184436</td>\n",
       "      <td>0.008000</td>\n",
       "      <td>-47.411089</td>\n",
       "    </tr>\n",
       "    <tr>\n",
       "      <th>3</th>\n",
       "      <td>0.150793</td>\n",
       "      <td>0.004533</td>\n",
       "      <td>-44.319824</td>\n",
       "    </tr>\n",
       "    <tr>\n",
       "      <th>4</th>\n",
       "      <td>0.130214</td>\n",
       "      <td>0.005017</td>\n",
       "      <td>-47.607875</td>\n",
       "    </tr>\n",
       "  </tbody>\n",
       "</table>\n",
       "</div>"
      ],
      "text/plain": [
       "   fit_time  score_time  test_score\n",
       "0  0.146398    0.000000  -46.909797\n",
       "1  0.139805    0.000000  -46.421170\n",
       "2  0.184436    0.008000  -47.411089\n",
       "3  0.150793    0.004533  -44.319824\n",
       "4  0.130214    0.005017  -47.607875"
      ]
     },
     "execution_count": 20,
     "metadata": {},
     "output_type": "execute_result"
    }
   ],
   "source": [
    "cv_results = pd.DataFrame(cv_results)\n",
    "cv_results.head()"
   ]
  },
  {
   "cell_type": "code",
   "execution_count": 21,
   "id": "ee9c35b7",
   "metadata": {},
   "outputs": [],
   "source": [
    "# revert the error negation to get the error\n",
    "cv_results[\"test_error\"] = -cv_results[\"test_score\"]"
   ]
  },
  {
   "cell_type": "code",
   "execution_count": 22,
   "id": "6bf65adc",
   "metadata": {},
   "outputs": [
    {
     "data": {
      "image/png": "[encoded data removed]",
      "text/plain": [
       "<Figure size 432x288 with 1 Axes>"
      ]
     },
     "metadata": {
      "needs_background": "light"
     },
     "output_type": "display_data"
    }
   ],
   "source": [
    "# plot results\n",
    "cv_results[\"test_error\"].plot.hist(bins=10, edgecolor=\"black\", density=True)\n",
    "plt.xlabel(\"Mean absolute error (k$)\")\n",
    "_ = plt.title(\"Test error distribution\")"
   ]
  },
  {
   "cell_type": "code",
   "execution_count": 23,
   "id": "d04be8bf",
   "metadata": {},
   "outputs": [
    {
     "name": "stdout",
     "output_type": "stream",
     "text": [
      "The mean cross-validated testing error is: 46.36 +/- 1.17 k$\n"
     ]
    }
   ],
   "source": [
    "print(f\"The mean cross-validated testing error is: \"\n",
    "      f\"{cv_results['test_error'].mean():.2f} +/- {cv_results['test_error'].std():.2f} k$\")"
   ]
  },
  {
   "cell_type": "code",
   "execution_count": 24,
   "id": "7c5bfa43",
   "metadata": {},
   "outputs": [
    {
     "data": {
      "image/png": "[encoded data removed]",
      "text/plain": [
       "<Figure size 432x288 with 1 Axes>"
      ]
     },
     "metadata": {
      "needs_background": "light"
     },
     "output_type": "display_data"
    }
   ],
   "source": [
    "# examine distribution of the target variable\n",
    "target.plot.hist(bins=20, edgecolor=\"black\", density=True)\n",
    "plt.xlabel(\"Median House Value (k$)\")\n",
    "_ = plt.title(\"Target distribution\")"
   ]
  },
  {
   "cell_type": "code",
   "execution_count": 25,
   "id": "fa6045da",
   "metadata": {},
   "outputs": [
    {
     "name": "stdout",
     "output_type": "stream",
     "text": [
      "The standard deviation of the target is: 115.40 k$\n"
     ]
    }
   ],
   "source": [
    "print(f\"The standard deviation of the target is: {target.std():.2f} k$\")"
   ]
  },
  {
   "cell_type": "markdown",
   "id": "89dd6121",
   "metadata": {},
   "source": [
    "On average our model makes an error around 47 kUSD. With this information and looking at the target distribution, such an error might be acceptable when predicting houses with a 500 kUSD. However, it would be an issue with a house with a value of 50 k$. Thus, this indicates that our metric (Mean Absolute Error) is not ideal.\n",
    "\n",
    "We might instead choose a metric __relative to the target value__ to predict: the mean absolute percentage error would have been a much better choice.\n",
    "\n",
    "But in all cases, an error of 47 k$ might be too large to automatically use our model to tag house values without expert supervision."
   ]
  },
  {
   "cell_type": "markdown",
   "id": "fc2cfc59",
   "metadata": {},
   "source": [
    "### (iii) cross_val_score"
   ]
  },
  {
   "cell_type": "markdown",
   "id": "f9b459db",
   "metadata": {},
   "source": [
    "During cross-validation, many models are trained and evaluated. Indeed, the number of elements in each array of the output of `cross_validate` is a result from one of these `fit/score` procedures. To make it explicit, it is possible to retrieve these fitted models for each of the splits/folds by passing the option `return_estimator=True` in `cross_validate`."
   ]
  },
  {
   "cell_type": "code",
   "execution_count": 26,
   "id": "320713db",
   "metadata": {},
   "outputs": [
    {
     "data": {
      "text/plain": [
       "{'fit_time': array([0.17711544, 0.16968536, 0.18022633, 0.16000438, 0.1749227 ]),\n",
       " 'score_time': array([0.        , 0.        , 0.00451207, 0.        , 0.        ]),\n",
       " 'estimator': [DecisionTreeRegressor(random_state=0),\n",
       "  DecisionTreeRegressor(random_state=0),\n",
       "  DecisionTreeRegressor(random_state=0),\n",
       "  DecisionTreeRegressor(random_state=0),\n",
       "  DecisionTreeRegressor(random_state=0)],\n",
       " 'test_score': array([0.26291527, 0.41947109, 0.44492564, 0.23357874, 0.40788361]),\n",
       " 'train_score': array([1., 1., 1., 1., 1.])}"
      ]
     },
     "execution_count": 26,
     "metadata": {},
     "output_type": "execute_result"
    }
   ],
   "source": [
    "cv_results = cross_validate(regressor, data, target, return_estimator=True, return_train_score=True)\n",
    "cv_results"
   ]
  },
  {
   "cell_type": "markdown",
   "id": "f79edba0",
   "metadata": {},
   "source": [
    "Having access to these regressors (the internal estimators) is handy because it allows to inspect the internal fitted parameters of these regressors.\n",
    "\n",
    "In the case where you __only__ are interested in the __test score__, scikit-learn provide a `cross_val_score` function. It is __identical to calling the cross_validate function__ and to select the test_score only."
   ]
  },
  {
   "cell_type": "code",
   "execution_count": 27,
   "id": "4c132ad3",
   "metadata": {},
   "outputs": [
    {
     "data": {
      "text/plain": [
       "array([0.26291527, 0.41947109, 0.44492564, 0.23357874, 0.40788361])"
      ]
     },
     "execution_count": 27,
     "metadata": {},
     "output_type": "execute_result"
    }
   ],
   "source": [
    "from sklearn.model_selection import cross_val_score\n",
    "\n",
    "scores = cross_val_score(regressor, data, target)\n",
    "scores"
   ]
  },
  {
   "cell_type": "markdown",
   "id": "7eead094",
   "metadata": {},
   "source": [
    "<a id=\"5.2\" ></a>\n",
    "## Other Strategies"
   ]
  },
  {
   "cell_type": "markdown",
   "id": "8f4df1c5",
   "metadata": {},
   "source": [
    "<a id=\"5.2.1\" ></a>\n",
    "### (i) Stratification"
   ]
  },
  {
   "cell_type": "code",
   "execution_count": 28,
   "id": "d26b0fe0",
   "metadata": {},
   "outputs": [],
   "source": [
    "from sklearn.datasets import load_iris\n",
    "\n",
    "data, target = load_iris(as_frame=True, return_X_y=True)"
   ]
  },
  {
   "cell_type": "code",
   "execution_count": 29,
   "id": "383d07d7",
   "metadata": {},
   "outputs": [
    {
     "name": "stdout",
     "output_type": "stream",
     "text": [
      "TRAIN: [3 4 5 6 7 8] TEST: [0 1 2]\n",
      "TRAIN: [0 1 2 6 7 8] TEST: [3 4 5]\n",
      "TRAIN: [0 1 2 3 4 5] TEST: [6 7 8]\n"
     ]
    }
   ],
   "source": [
    "from sklearn.preprocessing import StandardScaler\n",
    "from sklearn.linear_model import LogisticRegression\n",
    "from sklearn.pipeline import make_pipeline\n",
    "from sklearn.model_selection import KFold\n",
    "\n",
    "model = make_pipeline(StandardScaler(), LogisticRegression())\n",
    "\n",
    "# define the set with 9 samples\n",
    "data_random = np.random.randn(9, 1)\n",
    "cv = KFold(n_splits=3)\n",
    "for train_index, test_index in cv.split(data_random):\n",
    "    print(\"TRAIN:\", train_index, \"TEST:\", test_index)"
   ]
  },
  {
   "cell_type": "markdown",
   "id": "96f2cefa",
   "metadata": {},
   "source": [
    "By defining three splits, we will use three samples for testing and six for training each time. __KFold does not shuffle by default__. It means that it will select the three first samples for the testing set at the first split, then the three next three samples for the second split, and the three next for the last split. In the end, __all sample__ have been used in testing __at least once__ among the different splits."
   ]
  },
  {
   "cell_type": "code",
   "execution_count": 30,
   "id": "c460ee3d",
   "metadata": {},
   "outputs": [
    {
     "name": "stdout",
     "output_type": "stream",
     "text": [
      "The average accuracy is 0.000 +/- 0.000\n"
     ]
    }
   ],
   "source": [
    "# check generalisation performance\n",
    "cv = KFold(n_splits=3)\n",
    "results = cross_validate(model, data, target, cv=cv)\n",
    "test_score = results[\"test_score\"]\n",
    "print(f\"The average accuracy is \"\n",
    "      f\"{test_score.mean():.3f} +/- {test_score.std():.3f}\")"
   ]
  },
  {
   "cell_type": "code",
   "execution_count": 31,
   "id": "3fe40c66",
   "metadata": {},
   "outputs": [
    {
     "data": {
      "image/png": "[encoded data removed]",
      "text/plain": [
       "<Figure size 432x288 with 1 Axes>"
      ]
     },
     "metadata": {
      "needs_background": "light"
     },
     "output_type": "display_data"
    }
   ],
   "source": [
    "target.plot()\n",
    "plt.xlabel(\"Sample index\")\n",
    "plt.ylabel(\"Class\")\n",
    "plt.yticks(target.unique())\n",
    "_ = plt.title(\"Class value in target y\")"
   ]
  },
  {
   "cell_type": "markdown",
   "id": "01166882",
   "metadata": {},
   "source": [
    "We see that the target vector target is __ordered__. It will have some unexpected consequences when using the KFold cross-validation. To illustrate the consequences, we will show the class count in each fold of the cross-validation in the train and test set."
   ]
  },
  {
   "cell_type": "code",
   "execution_count": 32,
   "id": "c47257c8",
   "metadata": {},
   "outputs": [],
   "source": [
    "n_splits = 3\n",
    "cv = KFold(n_splits=n_splits)\n",
    "\n",
    "train_cv_counts = []\n",
    "test_cv_counts = []\n",
    "for fold_idx, (train_idx, test_idx) in enumerate(cv.split(data, target)):\n",
    "    target_train, target_test = target.iloc[train_idx], target.iloc[test_idx]\n",
    "\n",
    "    train_cv_counts.append(target_train.value_counts())\n",
    "    test_cv_counts.append(target_test.value_counts())"
   ]
  },
  {
   "cell_type": "code",
   "execution_count": 33,
   "id": "87d1ebaf",
   "metadata": {},
   "outputs": [
    {
     "data": {
      "text/html": [
       "<div>\n",
       "<style scoped>\n",
       "    .dataframe tbody tr th:only-of-type {\n",
       "        vertical-align: middle;\n",
       "    }\n",
       "\n",
       "    .dataframe tbody tr th {\n",
       "        vertical-align: top;\n",
       "    }\n",
       "\n",
       "    .dataframe thead th {\n",
       "        text-align: right;\n",
       "    }\n",
       "</style>\n",
       "<table border=\"1\" class=\"dataframe\">\n",
       "  <thead>\n",
       "    <tr style=\"text-align: right;\">\n",
       "      <th></th>\n",
       "      <th>Fold #0</th>\n",
       "      <th>Fold #1</th>\n",
       "      <th>Fold #2</th>\n",
       "    </tr>\n",
       "    <tr>\n",
       "      <th>Class label (Train Set)</th>\n",
       "      <th></th>\n",
       "      <th></th>\n",
       "      <th></th>\n",
       "    </tr>\n",
       "  </thead>\n",
       "  <tbody>\n",
       "    <tr>\n",
       "      <th>0</th>\n",
       "      <td>NaN</td>\n",
       "      <td>50.0</td>\n",
       "      <td>50.0</td>\n",
       "    </tr>\n",
       "    <tr>\n",
       "      <th>1</th>\n",
       "      <td>50.0</td>\n",
       "      <td>NaN</td>\n",
       "      <td>50.0</td>\n",
       "    </tr>\n",
       "    <tr>\n",
       "      <th>2</th>\n",
       "      <td>50.0</td>\n",
       "      <td>50.0</td>\n",
       "      <td>NaN</td>\n",
       "    </tr>\n",
       "  </tbody>\n",
       "</table>\n",
       "</div>"
      ],
      "text/plain": [
       "                         Fold #0  Fold #1  Fold #2\n",
       "Class label (Train Set)                           \n",
       "0                            NaN     50.0     50.0\n",
       "1                           50.0      NaN     50.0\n",
       "2                           50.0     50.0      NaN"
      ]
     },
     "execution_count": 33,
     "metadata": {},
     "output_type": "execute_result"
    }
   ],
   "source": [
    "train_cv_counts = pd.concat(train_cv_counts, axis=1,\n",
    "                            keys=[f\"Fold #{idx}\" for idx in range(n_splits)])\n",
    "train_cv_counts.index.name = \"Class label (Train Set)\"\n",
    "train_cv_counts"
   ]
  },
  {
   "cell_type": "code",
   "execution_count": 34,
   "id": "55c583b4",
   "metadata": {},
   "outputs": [
    {
     "data": {
      "text/html": [
       "<div>\n",
       "<style scoped>\n",
       "    .dataframe tbody tr th:only-of-type {\n",
       "        vertical-align: middle;\n",
       "    }\n",
       "\n",
       "    .dataframe tbody tr th {\n",
       "        vertical-align: top;\n",
       "    }\n",
       "\n",
       "    .dataframe thead th {\n",
       "        text-align: right;\n",
       "    }\n",
       "</style>\n",
       "<table border=\"1\" class=\"dataframe\">\n",
       "  <thead>\n",
       "    <tr style=\"text-align: right;\">\n",
       "      <th></th>\n",
       "      <th>Fold #0</th>\n",
       "      <th>Fold #1</th>\n",
       "      <th>Fold #2</th>\n",
       "    </tr>\n",
       "    <tr>\n",
       "      <th>Class label (Test Set)</th>\n",
       "      <th></th>\n",
       "      <th></th>\n",
       "      <th></th>\n",
       "    </tr>\n",
       "  </thead>\n",
       "  <tbody>\n",
       "    <tr>\n",
       "      <th>0</th>\n",
       "      <td>50.0</td>\n",
       "      <td>NaN</td>\n",
       "      <td>NaN</td>\n",
       "    </tr>\n",
       "    <tr>\n",
       "      <th>1</th>\n",
       "      <td>NaN</td>\n",
       "      <td>50.0</td>\n",
       "      <td>NaN</td>\n",
       "    </tr>\n",
       "    <tr>\n",
       "      <th>2</th>\n",
       "      <td>NaN</td>\n",
       "      <td>NaN</td>\n",
       "      <td>50.0</td>\n",
       "    </tr>\n",
       "  </tbody>\n",
       "</table>\n",
       "</div>"
      ],
      "text/plain": [
       "                        Fold #0  Fold #1  Fold #2\n",
       "Class label (Test Set)                           \n",
       "0                          50.0      NaN      NaN\n",
       "1                           NaN     50.0      NaN\n",
       "2                           NaN      NaN     50.0"
      ]
     },
     "execution_count": 34,
     "metadata": {},
     "output_type": "execute_result"
    }
   ],
   "source": [
    "test_cv_counts = pd.concat(test_cv_counts, axis=1,\n",
    "                           keys=[f\"Fold #{idx}\" for idx in range(n_splits)])\n",
    "test_cv_counts.index.name = \"Class label (Test Set)\"\n",
    "test_cv_counts"
   ]
  },
  {
   "cell_type": "code",
   "execution_count": 35,
   "id": "54c34c58",
   "metadata": {},
   "outputs": [
    {
     "data": {
      "image/png": "[encoded data removed]",
      "text/plain": [
       "<Figure size 432x288 with 1 Axes>"
      ]
     },
     "metadata": {
      "needs_background": "light"
     },
     "output_type": "display_data"
    },
    {
     "data": {
      "image/png": "[encoded data removed]",
      "text/plain": [
       "<Figure size 432x288 with 1 Axes>"
      ]
     },
     "metadata": {
      "needs_background": "light"
     },
     "output_type": "display_data"
    }
   ],
   "source": [
    "train_cv_counts.plot.bar()\n",
    "plt.legend(bbox_to_anchor=(1.05, 0.8), loc=\"upper left\")\n",
    "plt.ylabel(\"Count\")\n",
    "_ = plt.title(\"Training set\")\n",
    "\n",
    "test_cv_counts.plot.bar()\n",
    "plt.legend(bbox_to_anchor=(1.05, 0.8), loc=\"upper left\")\n",
    "plt.ylabel(\"Count\")\n",
    "_ = plt.title(\"Test set\")"
   ]
  },
  {
   "cell_type": "code",
   "execution_count": 36,
   "id": "050b9ad8",
   "metadata": {},
   "outputs": [
    {
     "name": "stdout",
     "output_type": "stream",
     "text": [
      "The average accuracy is 0.953 +/- 0.009\n"
     ]
    }
   ],
   "source": [
    "# solve order issue by shuffling the splits\n",
    "cv = KFold(n_splits=3, shuffle=True, random_state=0)\n",
    "results = cross_validate(model, data, target, cv=cv)\n",
    "test_score = results[\"test_score\"]\n",
    "print(f\"The average accuracy is \"\n",
    "      f\"{test_score.mean():.3f} +/- {test_score.std():.3f}\")"
   ]
  },
  {
   "cell_type": "code",
   "execution_count": 37,
   "id": "a9032a42",
   "metadata": {},
   "outputs": [],
   "source": [
    "train_cv_counts = []\n",
    "test_cv_counts = []\n",
    "# iterate through the splits\n",
    "for fold_idx, (train_idx, test_idx) in enumerate(cv.split(data, target)):\n",
    "    target_train, target_test = target.iloc[train_idx], target.iloc[test_idx]\n",
    "\n",
    "    train_cv_counts.append(target_train.value_counts())\n",
    "    test_cv_counts.append(target_test.value_counts())\n",
    "# convert to df\n",
    "train_cv_counts = pd.concat(train_cv_counts, axis=1,\n",
    "                            keys=[f\"Fold #{idx}\" for idx in range(n_splits)])\n",
    "test_cv_counts = pd.concat(test_cv_counts, axis=1,\n",
    "                           keys=[f\"Fold #{idx}\" for idx in range(n_splits)])\n",
    "train_cv_counts.index.name = \"Class label\"\n",
    "test_cv_counts.index.name = \"Class label\""
   ]
  },
  {
   "cell_type": "code",
   "execution_count": 38,
   "id": "60498024",
   "metadata": {},
   "outputs": [
    {
     "data": {
      "image/png": "[encoded data removed]",
      "text/plain": [
       "<Figure size 432x288 with 1 Axes>"
      ]
     },
     "metadata": {
      "needs_background": "light"
     },
     "output_type": "display_data"
    },
    {
     "data": {
      "image/png": "[encoded data removed]",
      "text/plain": [
       "<Figure size 432x288 with 1 Axes>"
      ]
     },
     "metadata": {
      "needs_background": "light"
     },
     "output_type": "display_data"
    }
   ],
   "source": [
    "train_cv_counts.plot.bar()\n",
    "plt.legend(bbox_to_anchor=(1.05, 0.8), loc=\"upper left\")\n",
    "plt.ylabel(\"Count\")\n",
    "_ = plt.title(\"Training set\")\n",
    "\n",
    "test_cv_counts.plot.bar()\n",
    "plt.legend(bbox_to_anchor=(1.05, 0.8), loc=\"upper left\")\n",
    "plt.ylabel(\"Count\")\n",
    "_ = plt.title(\"Test set\")"
   ]
  },
  {
   "cell_type": "markdown",
   "id": "7a5f2910",
   "metadata": {},
   "source": [
    "We see that __neither__ the training and testing sets have the __same class frequencies__ as our original dataset because the count for each class is varying a little.\n",
    "\n",
    "However, one might want to split our data by __preserving the original class frequencies__: we want to __stratify__ our data by class. In scikit-learn, some cross-validation strategies implement the stratification; they contain Stratified in their names."
   ]
  },
  {
   "cell_type": "code",
   "execution_count": 39,
   "id": "9ab4ad09",
   "metadata": {},
   "outputs": [],
   "source": [
    "from sklearn.model_selection import StratifiedKFold\n",
    "\n",
    "cv = StratifiedKFold(n_splits=3)"
   ]
  },
  {
   "cell_type": "code",
   "execution_count": 40,
   "id": "dd5e842c",
   "metadata": {},
   "outputs": [
    {
     "name": "stdout",
     "output_type": "stream",
     "text": [
      "The average accuracy is 0.960 +/- 0.016\n"
     ]
    }
   ],
   "source": [
    "results = cross_validate(model, data, target, cv=cv)\n",
    "test_score = results[\"test_score\"]\n",
    "print(f\"The average accuracy is \"\n",
    "      f\"{test_score.mean():.3f} +/- {test_score.std():.3f}\")"
   ]
  },
  {
   "cell_type": "code",
   "execution_count": 41,
   "id": "3b2e0788",
   "metadata": {},
   "outputs": [],
   "source": [
    "train_cv_counts = []\n",
    "test_cv_counts = []\n",
    "for fold_idx, (train_idx, test_idx) in enumerate(cv.split(data, target)):\n",
    "    target_train, target_test = target.iloc[train_idx], target.iloc[test_idx]\n",
    "\n",
    "    train_cv_counts.append(target_train.value_counts())\n",
    "    test_cv_counts.append(target_test.value_counts())\n",
    "train_cv_counts = pd.concat(train_cv_counts, axis=1,\n",
    "                            keys=[f\"Fold #{idx}\" for idx in range(n_splits)])\n",
    "test_cv_counts = pd.concat(test_cv_counts, axis=1,\n",
    "                           keys=[f\"Fold #{idx}\" for idx in range(n_splits)])\n",
    "train_cv_counts.index.name = \"Class label\"\n",
    "test_cv_counts.index.name = \"Class label\""
   ]
  },
  {
   "cell_type": "code",
   "execution_count": 42,
   "id": "6f5545f7",
   "metadata": {},
   "outputs": [
    {
     "data": {
      "image/png": "[encoded data removed]",
      "text/plain": [
       "<Figure size 432x288 with 1 Axes>"
      ]
     },
     "metadata": {
      "needs_background": "light"
     },
     "output_type": "display_data"
    },
    {
     "data": {
      "image/png": "[encoded data removed]",
      "text/plain": [
       "<Figure size 432x288 with 1 Axes>"
      ]
     },
     "metadata": {
      "needs_background": "light"
     },
     "output_type": "display_data"
    }
   ],
   "source": [
    "train_cv_counts.plot.bar()\n",
    "plt.legend(bbox_to_anchor=(1.05, 0.8), loc=\"upper left\")\n",
    "plt.ylabel(\"Count\")\n",
    "_ = plt.title(\"Training set\")\n",
    "\n",
    "test_cv_counts.plot.bar()\n",
    "plt.legend(bbox_to_anchor=(1.05, 0.8), loc=\"upper left\")\n",
    "plt.ylabel(\"Count\")\n",
    "_ = plt.title(\"Test set\")"
   ]
  },
  {
   "cell_type": "markdown",
   "id": "e90a0a74",
   "metadata": {},
   "source": [
    "In this case, we observe that the class counts are very close both in the train set and the test set. The difference is due to the small number of samples in the iris dataset.\n",
    "\n",
    "In conclusion, this is a __good practice to use stratification within the cross-validation framework when dealing with a classification problem__."
   ]
  },
  {
   "cell_type": "markdown",
   "id": "6be611c0",
   "metadata": {},
   "source": [
    "<a id=\"5.2.2\" ></a>\n",
    "### (ii) Sample Grouping"
   ]
  },
  {
   "cell_type": "code",
   "execution_count": 43,
   "id": "8c17a523",
   "metadata": {},
   "outputs": [],
   "source": [
    "from sklearn.datasets import load_digits\n",
    "\n",
    "digits = load_digits()\n",
    "data, target = digits.data, digits.target"
   ]
  },
  {
   "cell_type": "code",
   "execution_count": 44,
   "id": "b40989f7",
   "metadata": {},
   "outputs": [],
   "source": [
    "model = make_pipeline(StandardScaler(), LogisticRegression())"
   ]
  },
  {
   "cell_type": "code",
   "execution_count": 45,
   "id": "144d96c0",
   "metadata": {},
   "outputs": [
    {
     "name": "stdout",
     "output_type": "stream",
     "text": [
      "The average accuracy without Shuffle is 0.921 +/- 0.028\n"
     ]
    }
   ],
   "source": [
    "cv = KFold(shuffle=False)\n",
    "test_score_no_shuffling = cross_val_score(model, data, target, cv=cv,\n",
    "                                          n_jobs=2)\n",
    "print(f\"The average accuracy without Shuffle is \"\n",
    "      f\"{test_score_no_shuffling.mean():.3f} +/- \"\n",
    "      f\"{test_score_no_shuffling.std():.3f}\")"
   ]
  },
  {
   "cell_type": "code",
   "execution_count": 46,
   "id": "c9d529d5",
   "metadata": {},
   "outputs": [
    {
     "name": "stdout",
     "output_type": "stream",
     "text": [
      "The average accuracy with Shuffle is 0.964 +/- 0.007\n"
     ]
    }
   ],
   "source": [
    "cv = KFold(shuffle=True)\n",
    "test_score_with_shuffling = cross_val_score(model, data, target, cv=cv,\n",
    "                                            n_jobs=2)\n",
    "print(f\"The average accuracy with Shuffle is \"\n",
    "      f\"{test_score_with_shuffling.mean():.3f} +/- \"\n",
    "      f\"{test_score_with_shuffling.std():.3f}\")"
   ]
  },
  {
   "cell_type": "code",
   "execution_count": 47,
   "id": "549570a9",
   "metadata": {},
   "outputs": [
    {
     "data": {
      "text/html": [
       "<div>\n",
       "<style scoped>\n",
       "    .dataframe tbody tr th:only-of-type {\n",
       "        vertical-align: middle;\n",
       "    }\n",
       "\n",
       "    .dataframe tbody tr th {\n",
       "        vertical-align: top;\n",
       "    }\n",
       "\n",
       "    .dataframe thead th {\n",
       "        text-align: right;\n",
       "    }\n",
       "</style>\n",
       "<table border=\"1\" class=\"dataframe\">\n",
       "  <thead>\n",
       "    <tr style=\"text-align: right;\">\n",
       "      <th></th>\n",
       "      <th>KFold without shuffling</th>\n",
       "      <th>KFold with shuffling</th>\n",
       "    </tr>\n",
       "  </thead>\n",
       "  <tbody>\n",
       "    <tr>\n",
       "      <th>0</th>\n",
       "      <td>0.922222</td>\n",
       "      <td>0.961111</td>\n",
       "    </tr>\n",
       "    <tr>\n",
       "      <th>1</th>\n",
       "      <td>0.883333</td>\n",
       "      <td>0.975000</td>\n",
       "    </tr>\n",
       "    <tr>\n",
       "      <th>2</th>\n",
       "      <td>0.941504</td>\n",
       "      <td>0.969359</td>\n",
       "    </tr>\n",
       "    <tr>\n",
       "      <th>3</th>\n",
       "      <td>0.961003</td>\n",
       "      <td>0.955432</td>\n",
       "    </tr>\n",
       "    <tr>\n",
       "      <th>4</th>\n",
       "      <td>0.896936</td>\n",
       "      <td>0.961003</td>\n",
       "    </tr>\n",
       "  </tbody>\n",
       "</table>\n",
       "</div>"
      ],
      "text/plain": [
       "   KFold without shuffling  KFold with shuffling\n",
       "0                 0.922222              0.961111\n",
       "1                 0.883333              0.975000\n",
       "2                 0.941504              0.969359\n",
       "3                 0.961003              0.955432\n",
       "4                 0.896936              0.961003"
      ]
     },
     "execution_count": 47,
     "metadata": {},
     "output_type": "execute_result"
    }
   ],
   "source": [
    "all_scores = pd.DataFrame(\n",
    "    [test_score_no_shuffling, test_score_with_shuffling],\n",
    "    index=[\"KFold without shuffling\", \"KFold with shuffling\"],\n",
    ").T\n",
    "all_scores"
   ]
  },
  {
   "cell_type": "code",
   "execution_count": 48,
   "id": "4b30d55a",
   "metadata": {},
   "outputs": [
    {
     "data": {
      "image/png": "[encoded data removed]",
      "text/plain": [
       "<Figure size 432x288 with 1 Axes>"
      ]
     },
     "metadata": {
      "needs_background": "light"
     },
     "output_type": "display_data"
    }
   ],
   "source": [
    "all_scores.plot.hist(bins=10, edgecolor=\"black\", density=True, alpha=0.7)\n",
    "plt.xlim([0.8, 1.0])\n",
    "plt.xlabel(\"Accuracy score\")\n",
    "plt.legend(bbox_to_anchor=(1.05, 0.8), loc=\"upper left\")\n",
    "_ = plt.title(\"Distribution of the test scores\")"
   ]
  },
  {
   "cell_type": "markdown",
   "id": "6664706b",
   "metadata": {},
   "source": [
    "The cross-validation testing error that uses the shuffling has less variance than the one that does not impose any shuffling. It means that __some specific fold leads to a low score__ in this case."
   ]
  },
  {
   "cell_type": "code",
   "execution_count": 49,
   "id": "43b3cea6",
   "metadata": {},
   "outputs": [
    {
     "name": "stdout",
     "output_type": "stream",
     "text": [
      "[0.92222222 0.88333333 0.94150418 0.96100279 0.89693593]\n"
     ]
    }
   ],
   "source": [
    "print(test_score_no_shuffling)"
   ]
  },
  {
   "cell_type": "markdown",
   "id": "818bc37b",
   "metadata": {},
   "source": [
    "Thus, there is an underlying structure in the data that shuffling will break and get better results. To get a better understanding, we should read the documentation shipped with the dataset."
   ]
  },
  {
   "cell_type": "code",
   "execution_count": 50,
   "id": "7badb76c",
   "metadata": {},
   "outputs": [
    {
     "name": "stdout",
     "output_type": "stream",
     "text": [
      ".. _digits_dataset:\n",
      "\n",
      "Optical recognition of handwritten digits dataset\n",
      "--------------------------------------------------\n",
      "\n",
      "**Data Set Characteristics:**\n",
      "\n",
      "    :Number of Instances: 1797\n",
      "    :Number of Attributes: 64\n",
      "    :Attribute Information: 8x8 image of integer pixels in the range 0..16.\n",
      "    :Missing Attribute Values: None\n",
      "    :Creator: E. Alpaydin (alpaydin '@' boun.edu.tr)\n",
      "    :Date: July; 1998\n",
      "\n",
      "This is a copy of the test set of the UCI ML hand-written digits datasets\n",
      "https://archive.ics.uci.edu/ml/datasets/Optical+Recognition+of+Handwritten+Digits\n",
      "\n",
      "The data set contains images of hand-written digits: 10 classes where\n",
      "each class refers to a digit.\n",
      "\n",
      "Preprocessing programs made available by NIST were used to extract\n",
      "normalized bitmaps of handwritten digits from a preprinted form. From a\n",
      "total of 43 people, 30 contributed to the training set and different 13\n",
      "to the test set. 32x32 bitmaps are divided into nonoverlapping blocks of\n",
      "4x4 and the number of on pixels are counted in each block. This generates\n",
      "an input matrix of 8x8 where each element is an integer in the range\n",
      "0..16. This reduces dimensionality and gives invariance to small\n",
      "distortions.\n",
      "\n",
      "For info on NIST preprocessing routines, see M. D. Garris, J. L. Blue, G.\n",
      "T. Candela, D. L. Dimmick, J. Geist, P. J. Grother, S. A. Janet, and C.\n",
      "L. Wilson, NIST Form-Based Handprint Recognition System, NISTIR 5469,\n",
      "1994.\n",
      "\n",
      ".. topic:: References\n",
      "\n",
      "  - C. Kaynak (1995) Methods of Combining Multiple Classifiers and Their\n",
      "    Applications to Handwritten Digit Recognition, MSc Thesis, Institute of\n",
      "    Graduate Studies in Science and Engineering, Bogazici University.\n",
      "  - E. Alpaydin, C. Kaynak (1998) Cascading Classifiers, Kybernetika.\n",
      "  - Ken Tang and Ponnuthurai N. Suganthan and Xi Yao and A. Kai Qin.\n",
      "    Linear dimensionalityreduction using relevance weighted LDA. School of\n",
      "    Electrical and Electronic Engineering Nanyang Technological University.\n",
      "    2005.\n",
      "  - Claudio Gentile. A New Approximate Maximal Margin Classification\n",
      "    Algorithm. NIPS. 2000.\n",
      "\n"
     ]
    }
   ],
   "source": [
    "print(digits.DESCR)"
   ]
  },
  {
   "cell_type": "markdown",
   "id": "d9c08711",
   "metadata": {},
   "source": [
    "If we read carefully, 13 writers wrote the digits of our dataset, accounting for a total amount of 1797 samples. Thus, a writer wrote several times the same numbers. Let’s suppose that the writer samples are __grouped__. Subsequently, not shuffling the data will keep all writer samples together either in the training or the testing sets. __Mixing the data will break this structure__, and therefore digits written by the same writer will be available in __both__ the training and testing sets.\n",
    "\n",
    "Besides, a writer will usually tend to write digits in the same manner. Thus, our model will learn to identify __a writer’s pattern__ for each digit instead of recognizing the digit itself.\n",
    "\n",
    "We can solve this problem by ensuring that the data associated with a writer should either belong to the training or the testing set. Thus, we want to __group samples for each writer__.\n",
    "\n",
    "Here, we will __manually__ define the group for the 13 writers."
   ]
  },
  {
   "cell_type": "code",
   "execution_count": 51,
   "id": "e5d25137",
   "metadata": {},
   "outputs": [],
   "source": [
    "from itertools import count\n",
    "\n",
    "# defines the lower and upper bounds of sample indices\n",
    "# for each writer\n",
    "writer_boundaries = [0, 130, 256, 386, 516, 646, 776, 915, 1029,\n",
    "                     1157, 1287, 1415, 1545, 1667, 1797]\n",
    "groups = np.zeros_like(target)\n",
    "lower_bounds = writer_boundaries[:-1]\n",
    "upper_bounds = writer_boundaries[1:]\n",
    "\n",
    "for group_id, lb, up in zip(count(), lower_bounds, upper_bounds):\n",
    "    groups[lb:up] = group_id"
   ]
  },
  {
   "cell_type": "code",
   "execution_count": 52,
   "id": "87fbbf7a",
   "metadata": {},
   "outputs": [
    {
     "data": {
      "image/png": "[encoded data removed]",
      "text/plain": [
       "<Figure size 432x288 with 1 Axes>"
      ]
     },
     "metadata": {
      "needs_background": "light"
     },
     "output_type": "display_data"
    }
   ],
   "source": [
    "plt.plot(groups)\n",
    "plt.yticks(np.unique(groups))\n",
    "plt.xticks(writer_boundaries, rotation=90)\n",
    "plt.xlabel(\"Target index\")\n",
    "plt.ylabel(\"Writer index\")\n",
    "_ = plt.title(\"Underlying writer groups existing in the target\")"
   ]
  },
  {
   "cell_type": "code",
   "execution_count": 53,
   "id": "24794973",
   "metadata": {},
   "outputs": [
    {
     "name": "stdout",
     "output_type": "stream",
     "text": [
      "The average accuracy is 0.919 +/- 0.015\n"
     ]
    }
   ],
   "source": [
    "from sklearn.model_selection import GroupKFold\n",
    "\n",
    "cv = GroupKFold()\n",
    "test_score = cross_val_score(model, data, target, groups=groups, cv=cv,\n",
    "                             n_jobs=2)\n",
    "print(f\"The average accuracy is \"\n",
    "      f\"{test_score.mean():.3f} +/- \"\n",
    "      f\"{test_score.std():.3f}\")"
   ]
  },
  {
   "cell_type": "markdown",
   "id": "e7e1fa30",
   "metadata": {},
   "source": [
    "We see that this strategy is less optimistic regarding the model generalization performance. However, this is the most reliable if our goal is to make handwritten digits recognition writers independent. Besides, we can as well see that the standard deviation was reduced."
   ]
  },
  {
   "cell_type": "code",
   "execution_count": 54,
   "id": "f85945ca",
   "metadata": {},
   "outputs": [],
   "source": [
    "all_scores = pd.DataFrame(\n",
    "    [test_score_no_shuffling, test_score_with_shuffling, test_score],\n",
    "    index=[\"KFold without shuffling\", \"KFold with shuffling\",\n",
    "           \"KFold with groups\"],\n",
    ").T"
   ]
  },
  {
   "cell_type": "code",
   "execution_count": 55,
   "id": "5820c810",
   "metadata": {},
   "outputs": [
    {
     "data": {
      "image/png": "[encoded data removed]",
      "text/plain": [
       "<Figure size 432x288 with 1 Axes>"
      ]
     },
     "metadata": {
      "needs_background": "light"
     },
     "output_type": "display_data"
    }
   ],
   "source": [
    "all_scores.plot.hist(bins=10, edgecolor=\"black\", density=True, alpha=0.7)\n",
    "plt.xlim([0.8, 1.0])\n",
    "plt.xlabel(\"Accuracy score\")\n",
    "plt.legend(bbox_to_anchor=(1.05, 0.8), loc=\"upper left\")\n",
    "_ = plt.title(\"Distribution of the test scores\")"
   ]
  },
  {
   "cell_type": "markdown",
   "id": "d79dcf11",
   "metadata": {},
   "source": [
    "As a conclusion, it is really important to take any sample grouping pattern into account when evaluating a model. Otherwise, the results obtained will be __over-optimistic__ in regards with reality."
   ]
  },
  {
   "cell_type": "markdown",
   "id": "43758f40",
   "metadata": {},
   "source": [
    "<a id=\"5.2.3\" ></a>\n",
    "### (iii) Non i.i.d. data (Non Independent and identically distributed)"
   ]
  },
  {
   "cell_type": "markdown",
   "id": "f411609c",
   "metadata": {},
   "source": [
    "In machine learning, it is quite common to assume that the data are i.i.d, meaning that the generative process does not have any memory of past samples to generate new samples.\n",
    "\n",
    "This assumption is usually violated when dealing with __time series__. A sample depends on past information.\n",
    "\n",
    "We will take an example to highlight such issues with non-i.i.d. data in the previous cross-validation strategies presented. We are going to load financial quotations from some energy companies."
   ]
  },
  {
   "cell_type": "code",
   "execution_count": 56,
   "id": "0fb3f72c",
   "metadata": {},
   "outputs": [],
   "source": [
    "symbols = {\"TOT\": \"Total\", \"XOM\": \"Exxon\", \"CVX\": \"Chevron\",\n",
    "           \"COP\": \"ConocoPhillips\", \"VLO\": \"Valero Energy\"}\n",
    "url = (\"https://raw.githubusercontent.com/scikit-learn/examples-data/\"\n",
    "       \"master/financial-data/{}.csv\")\n",
    "\n",
    "quotes = {}\n",
    "for symbol in symbols:\n",
    "    data = pd.read_csv(url.format(symbol), index_col=0, parse_dates=True)\n",
    "    quotes[symbols[symbol]] = data[\"open\"]\n",
    "quotes = pd.DataFrame(quotes)"
   ]
  },
  {
   "cell_type": "code",
   "execution_count": 57,
   "id": "5bab4bb0",
   "metadata": {},
   "outputs": [
    {
     "data": {
      "image/png": "[encoded data removed]",
      "text/plain": [
       "<Figure size 432x288 with 1 Axes>"
      ]
     },
     "metadata": {
      "needs_background": "light"
     },
     "output_type": "display_data"
    }
   ],
   "source": [
    "quotes.plot()\n",
    "plt.ylabel(\"Quote value\")\n",
    "plt.legend(bbox_to_anchor=(1.05, 0.8), loc=\"upper left\")\n",
    "_ = plt.title(\"Stock values over time\")"
   ]
  },
  {
   "cell_type": "code",
   "execution_count": 58,
   "id": "31b33edc",
   "metadata": {},
   "outputs": [],
   "source": [
    "from sklearn.model_selection import train_test_split\n",
    "\n",
    "# Want to try to predict Chevron from the rest of the data\n",
    "data, target = quotes.drop(columns=[\"Chevron\"]), quotes[\"Chevron\"]\n",
    "\n",
    "data_train, data_test, target_train, target_test = train_test_split(\n",
    "    data, target, shuffle=True, random_state=0)"
   ]
  },
  {
   "cell_type": "code",
   "execution_count": 59,
   "id": "2b006652",
   "metadata": {},
   "outputs": [],
   "source": [
    "regressor = DecisionTreeRegressor()\n",
    "\n",
    "cv = ShuffleSplit(random_state=0)"
   ]
  },
  {
   "cell_type": "code",
   "execution_count": 60,
   "id": "95344d78",
   "metadata": {},
   "outputs": [
    {
     "name": "stdout",
     "output_type": "stream",
     "text": [
      "The mean R2 is: 0.95 +/- 0.07\n"
     ]
    }
   ],
   "source": [
    "test_score = cross_val_score(regressor, data_train, target_train, cv=cv,\n",
    "                             n_jobs=2)\n",
    "print(f\"The mean R2 is: \"\n",
    "      f\"{test_score.mean():.2f} +/- {test_score.std():.2f}\")"
   ]
  },
  {
   "cell_type": "markdown",
   "id": "0f45ced0",
   "metadata": {},
   "source": [
    "Surprisingly, we get outstanding generalization performance. We will investigate and find the reason for such good results with a model that is expected to fail. Remember `ShuffleSplit` is an iterative cross-validation scheme that shuffles data and split. We will simplify this procedure with a single split and plot the prediction. We can use `train_test_split` for this purpose."
   ]
  },
  {
   "cell_type": "code",
   "execution_count": 61,
   "id": "5c1149ff",
   "metadata": {},
   "outputs": [],
   "source": [
    "regressor.fit(data_train, target_train)\n",
    "target_predicted = regressor.predict(data_test)\n",
    "# Affect the index of `target_predicted` to ease the plotting\n",
    "target_predicted = pd.Series(target_predicted, index=target_test.index)"
   ]
  },
  {
   "cell_type": "code",
   "execution_count": 62,
   "id": "5429571e",
   "metadata": {},
   "outputs": [
    {
     "name": "stdout",
     "output_type": "stream",
     "text": [
      "The R2 on this single split is: 0.83\n"
     ]
    }
   ],
   "source": [
    "from sklearn.metrics import r2_score\n",
    "\n",
    "test_score = r2_score(target_test, target_predicted)\n",
    "print(f\"The R2 on this single split is: {test_score:.2f}\")"
   ]
  },
  {
   "cell_type": "code",
   "execution_count": 63,
   "id": "68e8daba",
   "metadata": {},
   "outputs": [
    {
     "data": {
      "image/png": "[encoded data removed]",
      "text/plain": [
       "<Figure size 432x288 with 1 Axes>"
      ]
     },
     "metadata": {
      "needs_background": "light"
     },
     "output_type": "display_data"
    }
   ],
   "source": [
    "target_train.plot(label=\"Training\")\n",
    "target_test.plot(label=\"Testing\")\n",
    "target_predicted.plot(label=\"Prediction\")\n",
    "\n",
    "plt.ylabel(\"Quote value\")\n",
    "plt.legend(bbox_to_anchor=(1.05, 0.8), loc=\"upper left\")\n",
    "_ = plt.title(\"Model predictions using a ShuffleSplit strategy\")"
   ]
  },
  {
   "cell_type": "markdown",
   "id": "6ca3ba51",
   "metadata": {},
   "source": [
    "So in this context, it seems that the model predictions are following the testing. But we can also see that the testing samples are next to some training sample. And with these time-series, we see a relationship between a sample at the time `t` and a sample at `t+1`. In this case, __we are violating the i.i.d. assumption__. The insight to get is the following: \n",
    "- a model can output of its training set at the time `t` for a testing sample at the time `t+1`. \n",
    "- This prediction would be close to the true value even if our model __did not learn__ anything, but just __memorized__ the training dataset.\n",
    "\n",
    "An easy way to verify this hypothesis is to __not shuffle__ the data when doing the split. In this case, we will use the first 75% of the data to train and the remaining data to test."
   ]
  },
  {
   "cell_type": "code",
   "execution_count": 64,
   "id": "754cef19",
   "metadata": {},
   "outputs": [],
   "source": [
    "data_train, data_test, target_train, target_test = train_test_split(\n",
    "    data, target, shuffle=False, random_state=0,\n",
    ")\n",
    "regressor.fit(data_train, target_train)\n",
    "target_predicted = regressor.predict(data_test)\n",
    "target_predicted = pd.Series(target_predicted, index=target_test.index)"
   ]
  },
  {
   "cell_type": "code",
   "execution_count": 65,
   "id": "f90da4e5",
   "metadata": {},
   "outputs": [
    {
     "name": "stdout",
     "output_type": "stream",
     "text": [
      "The R2 on this single split is: -2.42\n"
     ]
    }
   ],
   "source": [
    "test_score = r2_score(target_test, target_predicted)\n",
    "print(f\"The R2 on this single split is: {test_score:.2f}\")"
   ]
  },
  {
   "cell_type": "markdown",
   "id": "ae28d325",
   "metadata": {},
   "source": [
    "In this case, we see that our model is not magical anymore. Indeed, it performs worse than just predicting the mean of the target. We can visually check what we are predicting."
   ]
  },
  {
   "cell_type": "code",
   "execution_count": 66,
   "id": "9420ec1e",
   "metadata": {},
   "outputs": [
    {
     "data": {
      "image/png": "[encoded data removed]",
      "text/plain": [
       "<Figure size 432x288 with 1 Axes>"
      ]
     },
     "metadata": {
      "needs_background": "light"
     },
     "output_type": "display_data"
    }
   ],
   "source": [
    "target_train.plot(label=\"Training\")\n",
    "target_test.plot(label=\"Testing\")\n",
    "target_predicted.plot(label=\"Prediction\")\n",
    "\n",
    "plt.ylabel(\"Quote value\")\n",
    "plt.legend(bbox_to_anchor=(1.05, 0.8), loc=\"upper left\")\n",
    "_ = plt.title(\"Model predictions using a split without shuffling\")"
   ]
  },
  {
   "cell_type": "markdown",
   "id": "6831a975",
   "metadata": {},
   "source": [
    "One solution would be to group the samples into time blocks, e.g. by quarter, and predict each group’s information by using information from the other groups. We can use the `LeaveOneGroupOut` cross-validation for this purpose."
   ]
  },
  {
   "cell_type": "code",
   "execution_count": 67,
   "id": "28415d47",
   "metadata": {},
   "outputs": [
    {
     "name": "stdout",
     "output_type": "stream",
     "text": [
      "The mean R2 is: -0.88 +/- 1.68\n"
     ]
    }
   ],
   "source": [
    "from sklearn.model_selection import LeaveOneGroupOut\n",
    "\n",
    "# group by Quarter\n",
    "groups = quotes.index.to_period(\"Q\")\n",
    "cv = LeaveOneGroupOut()\n",
    "test_score = cross_val_score(regressor, data, target,\n",
    "                             cv=cv, groups=groups, n_jobs=2)\n",
    "print(f\"The mean R2 is: \"\n",
    "      f\"{test_score.mean():.2f} +/- {test_score.std():.2f}\")"
   ]
  },
  {
   "cell_type": "markdown",
   "id": "747a8b23",
   "metadata": {},
   "source": [
    "In this case, we see that we cannot make good predictions, which is less surprising than our original results.\n",
    "\n",
    "Another thing to consider is the actual application of our solution. If our model is aimed at forecasting (i.e., predicting future data from past data), we should not use training data that are ulterior to the testing data. In this case, we can use the `TimeSeriesSplit` cross-validation to enforce this behaviour."
   ]
  },
  {
   "cell_type": "code",
   "execution_count": 68,
   "id": "5cedec0b",
   "metadata": {},
   "outputs": [
    {
     "name": "stdout",
     "output_type": "stream",
     "text": [
      "The mean R2 is: -2.21 +/- 3.41\n"
     ]
    }
   ],
   "source": [
    "from sklearn.model_selection import TimeSeriesSplit\n",
    "\n",
    "# using the Quarterly grouping still\n",
    "cv = TimeSeriesSplit(n_splits=groups.nunique())\n",
    "test_score = cross_val_score(regressor, data, target,\n",
    "                             cv=cv, groups=groups, n_jobs=2)\n",
    "print(f\"The mean R2 is: \"\n",
    "      f\"{test_score.mean():.2f} +/- {test_score.std():.2f}\")"
   ]
  },
  {
   "cell_type": "markdown",
   "id": "0e230765",
   "metadata": {},
   "source": [
    "In conclusion, it is really important to not use an out of the shelves cross-validation strategy which do not respect some assumptions such as having i.i.d data. It might lead to absurd results which could make think that a predictive model might work."
   ]
  },
  {
   "cell_type": "markdown",
   "id": "206a03b0",
   "metadata": {},
   "source": [
    "<a id=\"5.3\" ></a>\n",
    "## Nested Cross Validation"
   ]
  },
  {
   "cell_type": "markdown",
   "id": "8b4cf33e",
   "metadata": {},
   "source": [
    "### (i) Unnested (Hyperparameter only)"
   ]
  },
  {
   "cell_type": "code",
   "execution_count": 69,
   "id": "bfb5183e",
   "metadata": {},
   "outputs": [],
   "source": [
    "# load data and split into features + target\n",
    "target_name = \"class\"\n",
    "adult_census = pd.read_csv(\"datasets/adult-census.csv\")\n",
    "target = adult_census[target_name]\n",
    "data = adult_census.drop(columns=[target_name, \"education-num\"])"
   ]
  },
  {
   "cell_type": "code",
   "execution_count": 70,
   "id": "aeba09de",
   "metadata": {},
   "outputs": [],
   "source": [
    "from sklearn import set_config\n",
    "\n",
    "# To get a diagram visualization of the pipeline\n",
    "set_config(display=\"diagram\")"
   ]
  },
  {
   "cell_type": "code",
   "execution_count": 71,
   "id": "41050320",
   "metadata": {},
   "outputs": [],
   "source": [
    "# set up preprocessor\n",
    "from sklearn.compose import ColumnTransformer\n",
    "from sklearn.preprocessing import OrdinalEncoder\n",
    "from sklearn.compose import make_column_selector as selector\n",
    "\n",
    "categorical_columns_selector = selector(dtype_include=object)\n",
    "categorical_columns = categorical_columns_selector(data)\n",
    "\n",
    "categorical_preprocessor = OrdinalEncoder(\n",
    "    handle_unknown=\"use_encoded_value\", unknown_value=-1\n",
    ")\n",
    "preprocessor = ColumnTransformer(\n",
    "    [\n",
    "        ('cat_preprocessor', categorical_preprocessor, categorical_columns),\n",
    "    ],\n",
    "    remainder='passthrough',\n",
    "    sparse_threshold=0,\n",
    ")"
   ]
  },
  {
   "cell_type": "code",
   "execution_count": 72,
   "id": "71644225",
   "metadata": {},
   "outputs": [
    {
     "data": {
      "text/html": [
       "<style>#sk-2841d547-e8ba-4053-99e0-9dcd1a36e6f0 {color: black;background-color: white;}#sk-2841d547-e8ba-4053-99e0-9dcd1a36e6f0 pre{padding: 0;}#sk-2841d547-e8ba-4053-99e0-9dcd1a36e6f0 div.sk-toggleable {background-color: white;}#sk-2841d547-e8ba-4053-99e0-9dcd1a36e6f0 label.sk-toggleable__label {cursor: pointer;display: block;width: 100%;margin-bottom: 0;padding: 0.3em;box-sizing: border-box;text-align: center;}#sk-2841d547-e8ba-4053-99e0-9dcd1a36e6f0 div.sk-toggleable__content {max-height: 0;max-width: 0;overflow: hidden;text-align: left;background-color: #f0f8ff;}#sk-2841d547-e8ba-4053-99e0-9dcd1a36e6f0 div.sk-toggleable__content pre {margin: 0.2em;color: black;border-radius: 0.25em;background-color: #f0f8ff;}#sk-2841d547-e8ba-4053-99e0-9dcd1a36e6f0 input.sk-toggleable__control:checked~div.sk-toggleable__content {max-height: 200px;max-width: 100%;overflow: auto;}#sk-2841d547-e8ba-4053-99e0-9dcd1a36e6f0 div.sk-estimator input.sk-toggleable__control:checked~label.sk-toggleable__label {background-color: #d4ebff;}#sk-2841d547-e8ba-4053-99e0-9dcd1a36e6f0 div.sk-label input.sk-toggleable__control:checked~label.sk-toggleable__label {background-color: #d4ebff;}#sk-2841d547-e8ba-4053-99e0-9dcd1a36e6f0 input.sk-hidden--visually {border: 0;clip: rect(1px 1px 1px 1px);clip: rect(1px, 1px, 1px, 1px);height: 1px;margin: -1px;overflow: hidden;padding: 0;position: absolute;width: 1px;}#sk-2841d547-e8ba-4053-99e0-9dcd1a36e6f0 div.sk-estimator {font-family: monospace;background-color: #f0f8ff;border: 1px dotted black;border-radius: 0.25em;box-sizing: border-box;margin-bottom: 0.5em;}#sk-2841d547-e8ba-4053-99e0-9dcd1a36e6f0 div.sk-estimator:hover {background-color: #d4ebff;}#sk-2841d547-e8ba-4053-99e0-9dcd1a36e6f0 div.sk-parallel-item::after {content: \"\";width: 100%;border-bottom: 1px solid gray;flex-grow: 1;}#sk-2841d547-e8ba-4053-99e0-9dcd1a36e6f0 div.sk-label:hover label.sk-toggleable__label {background-color: #d4ebff;}#sk-2841d547-e8ba-4053-99e0-9dcd1a36e6f0 div.sk-serial::before {content: \"\";position: absolute;border-left: 1px solid gray;box-sizing: border-box;top: 2em;bottom: 0;left: 50%;}#sk-2841d547-e8ba-4053-99e0-9dcd1a36e6f0 div.sk-serial {display: flex;flex-direction: column;align-items: center;background-color: white;padding-right: 0.2em;padding-left: 0.2em;}#sk-2841d547-e8ba-4053-99e0-9dcd1a36e6f0 div.sk-item {z-index: 1;}#sk-2841d547-e8ba-4053-99e0-9dcd1a36e6f0 div.sk-parallel {display: flex;align-items: stretch;justify-content: center;background-color: white;}#sk-2841d547-e8ba-4053-99e0-9dcd1a36e6f0 div.sk-parallel::before {content: \"\";position: absolute;border-left: 1px solid gray;box-sizing: border-box;top: 2em;bottom: 0;left: 50%;}#sk-2841d547-e8ba-4053-99e0-9dcd1a36e6f0 div.sk-parallel-item {display: flex;flex-direction: column;position: relative;background-color: white;}#sk-2841d547-e8ba-4053-99e0-9dcd1a36e6f0 div.sk-parallel-item:first-child::after {align-self: flex-end;width: 50%;}#sk-2841d547-e8ba-4053-99e0-9dcd1a36e6f0 div.sk-parallel-item:last-child::after {align-self: flex-start;width: 50%;}#sk-2841d547-e8ba-4053-99e0-9dcd1a36e6f0 div.sk-parallel-item:only-child::after {width: 0;}#sk-2841d547-e8ba-4053-99e0-9dcd1a36e6f0 div.sk-dashed-wrapped {border: 1px dashed gray;margin: 0 0.4em 0.5em 0.4em;box-sizing: border-box;padding-bottom: 0.4em;background-color: white;position: relative;}#sk-2841d547-e8ba-4053-99e0-9dcd1a36e6f0 div.sk-label label {font-family: monospace;font-weight: bold;background-color: white;display: inline-block;line-height: 1.2em;}#sk-2841d547-e8ba-4053-99e0-9dcd1a36e6f0 div.sk-label-container {position: relative;z-index: 2;text-align: center;}#sk-2841d547-e8ba-4053-99e0-9dcd1a36e6f0 div.sk-container {display: inline-block;position: relative;}</style><div id=\"sk-2841d547-e8ba-4053-99e0-9dcd1a36e6f0\" class\"sk-top-container\"><div class=\"sk-container\"><div class=\"sk-item sk-dashed-wrapped\"><div class=\"sk-label-container\"><div class=\"sk-label sk-toggleable\"><input class=\"sk-toggleable__control sk-hidden--visually\" id=\"97eb1e24-1e73-4785-b51b-d1d23b028cad\" type=\"checkbox\" ><label class=\"sk-toggleable__label\" for=\"97eb1e24-1e73-4785-b51b-d1d23b028cad\">Pipeline</label><div class=\"sk-toggleable__content\"><pre>Pipeline(steps=[('preprocessor',\n",
       "                 ColumnTransformer(remainder='passthrough', sparse_threshold=0,\n",
       "                                   transformers=[('cat_preprocessor',\n",
       "                                                  OrdinalEncoder(handle_unknown='use_encoded_value',\n",
       "                                                                 unknown_value=-1),\n",
       "                                                  ['workclass', 'education',\n",
       "                                                   'marital-status',\n",
       "                                                   'occupation', 'relationship',\n",
       "                                                   'race', 'sex',\n",
       "                                                   'native-country'])])),\n",
       "                ('classifier',\n",
       "                 HistGradientBoostingClassifier(max_leaf_nodes=4,\n",
       "                                                random_state=42))])</pre></div></div></div><div class=\"sk-serial\"><div class=\"sk-item sk-dashed-wrapped\"><div class=\"sk-label-container\"><div class=\"sk-label sk-toggleable\"><input class=\"sk-toggleable__control sk-hidden--visually\" id=\"3a629594-0d3d-488f-82be-d71c7440aefd\" type=\"checkbox\" ><label class=\"sk-toggleable__label\" for=\"3a629594-0d3d-488f-82be-d71c7440aefd\">preprocessor: ColumnTransformer</label><div class=\"sk-toggleable__content\"><pre>ColumnTransformer(remainder='passthrough', sparse_threshold=0,\n",
       "                  transformers=[('cat_preprocessor',\n",
       "                                 OrdinalEncoder(handle_unknown='use_encoded_value',\n",
       "                                                unknown_value=-1),\n",
       "                                 ['workclass', 'education', 'marital-status',\n",
       "                                  'occupation', 'relationship', 'race', 'sex',\n",
       "                                  'native-country'])])</pre></div></div></div><div class=\"sk-parallel\"><div class=\"sk-parallel-item\"><div class=\"sk-item\"><div class=\"sk-label-container\"><div class=\"sk-label sk-toggleable\"><input class=\"sk-toggleable__control sk-hidden--visually\" id=\"094b5f35-64b2-4262-ae6b-b02b82b9c47e\" type=\"checkbox\" ><label class=\"sk-toggleable__label\" for=\"094b5f35-64b2-4262-ae6b-b02b82b9c47e\">cat_preprocessor</label><div class=\"sk-toggleable__content\"><pre>['workclass', 'education', 'marital-status', 'occupation', 'relationship', 'race', 'sex', 'native-country']</pre></div></div></div><div class=\"sk-serial\"><div class=\"sk-item\"><div class=\"sk-estimator sk-toggleable\"><input class=\"sk-toggleable__control sk-hidden--visually\" id=\"8edb11c7-bb4a-42f7-b2ff-32856521d4ac\" type=\"checkbox\" ><label class=\"sk-toggleable__label\" for=\"8edb11c7-bb4a-42f7-b2ff-32856521d4ac\">OrdinalEncoder</label><div class=\"sk-toggleable__content\"><pre>OrdinalEncoder(handle_unknown='use_encoded_value', unknown_value=-1)</pre></div></div></div></div></div></div><div class=\"sk-parallel-item\"><div class=\"sk-item\"><div class=\"sk-label-container\"><div class=\"sk-label sk-toggleable\"><input class=\"sk-toggleable__control sk-hidden--visually\" id=\"c926e218-24d3-483e-b948-d7a9e2dc5574\" type=\"checkbox\" ><label class=\"sk-toggleable__label\" for=\"c926e218-24d3-483e-b948-d7a9e2dc5574\">remainder</label><div class=\"sk-toggleable__content\"><pre></pre></div></div></div><div class=\"sk-serial\"><div class=\"sk-item\"><div class=\"sk-estimator sk-toggleable\"><input class=\"sk-toggleable__control sk-hidden--visually\" id=\"49284310-713e-4d3e-9afb-edd70cb25c21\" type=\"checkbox\" ><label class=\"sk-toggleable__label\" for=\"49284310-713e-4d3e-9afb-edd70cb25c21\">passthrough</label><div class=\"sk-toggleable__content\"><pre>passthrough</pre></div></div></div></div></div></div></div></div><div class=\"sk-item\"><div class=\"sk-estimator sk-toggleable\"><input class=\"sk-toggleable__control sk-hidden--visually\" id=\"ca02b294-971c-4632-a036-2c507424b3fa\" type=\"checkbox\" ><label class=\"sk-toggleable__label\" for=\"ca02b294-971c-4632-a036-2c507424b3fa\">HistGradientBoostingClassifier</label><div class=\"sk-toggleable__content\"><pre>HistGradientBoostingClassifier(max_leaf_nodes=4, random_state=42)</pre></div></div></div></div></div></div></div>"
      ],
      "text/plain": [
       "Pipeline(steps=[('preprocessor',\n",
       "                 ColumnTransformer(remainder='passthrough', sparse_threshold=0,\n",
       "                                   transformers=[('cat_preprocessor',\n",
       "                                                  OrdinalEncoder(handle_unknown='use_encoded_value',\n",
       "                                                                 unknown_value=-1),\n",
       "                                                  ['workclass', 'education',\n",
       "                                                   'marital-status',\n",
       "                                                   'occupation', 'relationship',\n",
       "                                                   'race', 'sex',\n",
       "                                                   'native-country'])])),\n",
       "                ('classifier',\n",
       "                 HistGradientBoostingClassifier(max_leaf_nodes=4,\n",
       "                                                random_state=42))])"
      ]
     },
     "execution_count": 72,
     "metadata": {},
     "output_type": "execute_result"
    }
   ],
   "source": [
    "# create model\n",
    "from sklearn.ensemble import HistGradientBoostingClassifier\n",
    "from sklearn.pipeline import Pipeline\n",
    "\n",
    "model = Pipeline([\n",
    "    (\"preprocessor\", preprocessor),\n",
    "    (\n",
    "        \"classifier\",\n",
    "        HistGradientBoostingClassifier(\n",
    "            random_state=42, max_leaf_nodes=4\n",
    "        )\n",
    "    ),\n",
    "])\n",
    "model"
   ]
  },
  {
   "cell_type": "code",
   "execution_count": 73,
   "id": "d7b2ea53",
   "metadata": {},
   "outputs": [
    {
     "data": {
      "text/html": [
       "<style>#sk-09ad992e-1862-43a9-9b62-4d8892501fe8 {color: black;background-color: white;}#sk-09ad992e-1862-43a9-9b62-4d8892501fe8 pre{padding: 0;}#sk-09ad992e-1862-43a9-9b62-4d8892501fe8 div.sk-toggleable {background-color: white;}#sk-09ad992e-1862-43a9-9b62-4d8892501fe8 label.sk-toggleable__label {cursor: pointer;display: block;width: 100%;margin-bottom: 0;padding: 0.3em;box-sizing: border-box;text-align: center;}#sk-09ad992e-1862-43a9-9b62-4d8892501fe8 div.sk-toggleable__content {max-height: 0;max-width: 0;overflow: hidden;text-align: left;background-color: #f0f8ff;}#sk-09ad992e-1862-43a9-9b62-4d8892501fe8 div.sk-toggleable__content pre {margin: 0.2em;color: black;border-radius: 0.25em;background-color: #f0f8ff;}#sk-09ad992e-1862-43a9-9b62-4d8892501fe8 input.sk-toggleable__control:checked~div.sk-toggleable__content {max-height: 200px;max-width: 100%;overflow: auto;}#sk-09ad992e-1862-43a9-9b62-4d8892501fe8 div.sk-estimator input.sk-toggleable__control:checked~label.sk-toggleable__label {background-color: #d4ebff;}#sk-09ad992e-1862-43a9-9b62-4d8892501fe8 div.sk-label input.sk-toggleable__control:checked~label.sk-toggleable__label {background-color: #d4ebff;}#sk-09ad992e-1862-43a9-9b62-4d8892501fe8 input.sk-hidden--visually {border: 0;clip: rect(1px 1px 1px 1px);clip: rect(1px, 1px, 1px, 1px);height: 1px;margin: -1px;overflow: hidden;padding: 0;position: absolute;width: 1px;}#sk-09ad992e-1862-43a9-9b62-4d8892501fe8 div.sk-estimator {font-family: monospace;background-color: #f0f8ff;border: 1px dotted black;border-radius: 0.25em;box-sizing: border-box;margin-bottom: 0.5em;}#sk-09ad992e-1862-43a9-9b62-4d8892501fe8 div.sk-estimator:hover {background-color: #d4ebff;}#sk-09ad992e-1862-43a9-9b62-4d8892501fe8 div.sk-parallel-item::after {content: \"\";width: 100%;border-bottom: 1px solid gray;flex-grow: 1;}#sk-09ad992e-1862-43a9-9b62-4d8892501fe8 div.sk-label:hover label.sk-toggleable__label {background-color: #d4ebff;}#sk-09ad992e-1862-43a9-9b62-4d8892501fe8 div.sk-serial::before {content: \"\";position: absolute;border-left: 1px solid gray;box-sizing: border-box;top: 2em;bottom: 0;left: 50%;}#sk-09ad992e-1862-43a9-9b62-4d8892501fe8 div.sk-serial {display: flex;flex-direction: column;align-items: center;background-color: white;padding-right: 0.2em;padding-left: 0.2em;}#sk-09ad992e-1862-43a9-9b62-4d8892501fe8 div.sk-item {z-index: 1;}#sk-09ad992e-1862-43a9-9b62-4d8892501fe8 div.sk-parallel {display: flex;align-items: stretch;justify-content: center;background-color: white;}#sk-09ad992e-1862-43a9-9b62-4d8892501fe8 div.sk-parallel::before {content: \"\";position: absolute;border-left: 1px solid gray;box-sizing: border-box;top: 2em;bottom: 0;left: 50%;}#sk-09ad992e-1862-43a9-9b62-4d8892501fe8 div.sk-parallel-item {display: flex;flex-direction: column;position: relative;background-color: white;}#sk-09ad992e-1862-43a9-9b62-4d8892501fe8 div.sk-parallel-item:first-child::after {align-self: flex-end;width: 50%;}#sk-09ad992e-1862-43a9-9b62-4d8892501fe8 div.sk-parallel-item:last-child::after {align-self: flex-start;width: 50%;}#sk-09ad992e-1862-43a9-9b62-4d8892501fe8 div.sk-parallel-item:only-child::after {width: 0;}#sk-09ad992e-1862-43a9-9b62-4d8892501fe8 div.sk-dashed-wrapped {border: 1px dashed gray;margin: 0 0.4em 0.5em 0.4em;box-sizing: border-box;padding-bottom: 0.4em;background-color: white;position: relative;}#sk-09ad992e-1862-43a9-9b62-4d8892501fe8 div.sk-label label {font-family: monospace;font-weight: bold;background-color: white;display: inline-block;line-height: 1.2em;}#sk-09ad992e-1862-43a9-9b62-4d8892501fe8 div.sk-label-container {position: relative;z-index: 2;text-align: center;}#sk-09ad992e-1862-43a9-9b62-4d8892501fe8 div.sk-container {display: inline-block;position: relative;}</style><div id=\"sk-09ad992e-1862-43a9-9b62-4d8892501fe8\" class\"sk-top-container\"><div class=\"sk-container\"><div class=\"sk-item sk-dashed-wrapped\"><div class=\"sk-label-container\"><div class=\"sk-label sk-toggleable\"><input class=\"sk-toggleable__control sk-hidden--visually\" id=\"a009de1c-f741-4667-b56c-8051015e47b8\" type=\"checkbox\" ><label class=\"sk-toggleable__label\" for=\"a009de1c-f741-4667-b56c-8051015e47b8\">GridSearchCV</label><div class=\"sk-toggleable__content\"><pre>GridSearchCV(cv=2,\n",
       "             estimator=Pipeline(steps=[('preprocessor',\n",
       "                                        ColumnTransformer(remainder='passthrough',\n",
       "                                                          sparse_threshold=0,\n",
       "                                                          transformers=[('cat_preprocessor',\n",
       "                                                                         OrdinalEncoder(handle_unknown='use_encoded_value',\n",
       "                                                                                        unknown_value=-1),\n",
       "                                                                         ['workclass',\n",
       "                                                                          'education',\n",
       "                                                                          'marital-status',\n",
       "                                                                          'occupation',\n",
       "                                                                          'relationship',\n",
       "                                                                          'race',\n",
       "                                                                          'sex',\n",
       "                                                                          'native-country'])])),\n",
       "                                       ('classifier',\n",
       "                                        HistGradientBoostingClassifier(max_leaf_nodes=4,\n",
       "                                                                       random_state=42))]),\n",
       "             n_jobs=2,\n",
       "             param_grid={'classifier__learning_rate': (0.05, 0.5),\n",
       "                         'classifier__max_leaf_nodes': (10, 30)})</pre></div></div></div><div class=\"sk-parallel\"><div class=\"sk-parallel-item\"><div class=\"sk-item\"><div class=\"sk-serial\"><div class=\"sk-item\"><div class=\"sk-serial\"><div class=\"sk-item sk-dashed-wrapped\"><div class=\"sk-label-container\"><div class=\"sk-label sk-toggleable\"><input class=\"sk-toggleable__control sk-hidden--visually\" id=\"12f312fe-5ed3-4b53-841b-bb288b0c8dea\" type=\"checkbox\" ><label class=\"sk-toggleable__label\" for=\"12f312fe-5ed3-4b53-841b-bb288b0c8dea\">preprocessor: ColumnTransformer</label><div class=\"sk-toggleable__content\"><pre>ColumnTransformer(remainder='passthrough', sparse_threshold=0,\n",
       "                  transformers=[('cat_preprocessor',\n",
       "                                 OrdinalEncoder(handle_unknown='use_encoded_value',\n",
       "                                                unknown_value=-1),\n",
       "                                 ['workclass', 'education', 'marital-status',\n",
       "                                  'occupation', 'relationship', 'race', 'sex',\n",
       "                                  'native-country'])])</pre></div></div></div><div class=\"sk-parallel\"><div class=\"sk-parallel-item\"><div class=\"sk-item\"><div class=\"sk-label-container\"><div class=\"sk-label sk-toggleable\"><input class=\"sk-toggleable__control sk-hidden--visually\" id=\"61e30970-b902-401b-bba1-6117e0989688\" type=\"checkbox\" ><label class=\"sk-toggleable__label\" for=\"61e30970-b902-401b-bba1-6117e0989688\">cat_preprocessor</label><div class=\"sk-toggleable__content\"><pre>['workclass', 'education', 'marital-status', 'occupation', 'relationship', 'race', 'sex', 'native-country']</pre></div></div></div><div class=\"sk-serial\"><div class=\"sk-item\"><div class=\"sk-estimator sk-toggleable\"><input class=\"sk-toggleable__control sk-hidden--visually\" id=\"f8a037a1-55b9-4b43-9c88-7fc5b3375173\" type=\"checkbox\" ><label class=\"sk-toggleable__label\" for=\"f8a037a1-55b9-4b43-9c88-7fc5b3375173\">OrdinalEncoder</label><div class=\"sk-toggleable__content\"><pre>OrdinalEncoder(handle_unknown='use_encoded_value', unknown_value=-1)</pre></div></div></div></div></div></div><div class=\"sk-parallel-item\"><div class=\"sk-item\"><div class=\"sk-label-container\"><div class=\"sk-label sk-toggleable\"><input class=\"sk-toggleable__control sk-hidden--visually\" id=\"76d0a1d0-17b8-470d-8398-c925b98a070f\" type=\"checkbox\" ><label class=\"sk-toggleable__label\" for=\"76d0a1d0-17b8-470d-8398-c925b98a070f\">remainder</label><div class=\"sk-toggleable__content\"><pre></pre></div></div></div><div class=\"sk-serial\"><div class=\"sk-item\"><div class=\"sk-estimator sk-toggleable\"><input class=\"sk-toggleable__control sk-hidden--visually\" id=\"148360d5-cff4-4365-a5b8-49400cd85998\" type=\"checkbox\" ><label class=\"sk-toggleable__label\" for=\"148360d5-cff4-4365-a5b8-49400cd85998\">passthrough</label><div class=\"sk-toggleable__content\"><pre>passthrough</pre></div></div></div></div></div></div></div></div><div class=\"sk-item\"><div class=\"sk-estimator sk-toggleable\"><input class=\"sk-toggleable__control sk-hidden--visually\" id=\"fd1f816c-bf8a-4292-9347-7491ac0dd01a\" type=\"checkbox\" ><label class=\"sk-toggleable__label\" for=\"fd1f816c-bf8a-4292-9347-7491ac0dd01a\">HistGradientBoostingClassifier</label><div class=\"sk-toggleable__content\"><pre>HistGradientBoostingClassifier(max_leaf_nodes=4, random_state=42)</pre></div></div></div></div></div></div></div></div></div></div></div></div>"
      ],
      "text/plain": [
       "GridSearchCV(cv=2,\n",
       "             estimator=Pipeline(steps=[('preprocessor',\n",
       "                                        ColumnTransformer(remainder='passthrough',\n",
       "                                                          sparse_threshold=0,\n",
       "                                                          transformers=[('cat_preprocessor',\n",
       "                                                                         OrdinalEncoder(handle_unknown='use_encoded_value',\n",
       "                                                                                        unknown_value=-1),\n",
       "                                                                         ['workclass',\n",
       "                                                                          'education',\n",
       "                                                                          'marital-status',\n",
       "                                                                          'occupation',\n",
       "                                                                          'relationship',\n",
       "                                                                          'race',\n",
       "                                                                          'sex',\n",
       "                                                                          'native-country'])])),\n",
       "                                       ('classifier',\n",
       "                                        HistGradientBoostingClassifier(max_leaf_nodes=4,\n",
       "                                                                       random_state=42))]),\n",
       "             n_jobs=2,\n",
       "             param_grid={'classifier__learning_rate': (0.05, 0.5),\n",
       "                         'classifier__max_leaf_nodes': (10, 30)})"
      ]
     },
     "execution_count": 73,
     "metadata": {},
     "output_type": "execute_result"
    }
   ],
   "source": [
    "# use GridSearch to tune hyperparameters\n",
    "from sklearn.model_selection import GridSearchCV\n",
    "\n",
    "param_grid = {\n",
    "    'classifier__learning_rate': (0.05, 0.5),\n",
    "    'classifier__max_leaf_nodes': (10, 30),\n",
    "}\n",
    "model_grid_search = GridSearchCV(\n",
    "    model, param_grid=param_grid, n_jobs=2, cv=2\n",
    ")\n",
    "model_grid_search.fit(data, target)"
   ]
  },
  {
   "cell_type": "markdown",
   "id": "aba74271",
   "metadata": {},
   "source": [
    "As previously seen, when calling the `fit` method, the model embedded in the grid-search is trained with every possible combination of parameters resulting from the parameter grid. The best combination is selected by __keeping the combination leading to the best mean cross-validated score__."
   ]
  },
  {
   "cell_type": "code",
   "execution_count": 74,
   "id": "d9af687a",
   "metadata": {},
   "outputs": [
    {
     "data": {
      "text/html": [
       "<div>\n",
       "<style scoped>\n",
       "    .dataframe tbody tr th:only-of-type {\n",
       "        vertical-align: middle;\n",
       "    }\n",
       "\n",
       "    .dataframe tbody tr th {\n",
       "        vertical-align: top;\n",
       "    }\n",
       "\n",
       "    .dataframe thead th {\n",
       "        text-align: right;\n",
       "    }\n",
       "</style>\n",
       "<table border=\"1\" class=\"dataframe\">\n",
       "  <thead>\n",
       "    <tr style=\"text-align: right;\">\n",
       "      <th></th>\n",
       "      <th>param_classifier__learning_rate</th>\n",
       "      <th>param_classifier__max_leaf_nodes</th>\n",
       "      <th>mean_test_score</th>\n",
       "      <th>std_test_score</th>\n",
       "      <th>rank_test_score</th>\n",
       "    </tr>\n",
       "  </thead>\n",
       "  <tbody>\n",
       "    <tr>\n",
       "      <th>0</th>\n",
       "      <td>0.05</td>\n",
       "      <td>10</td>\n",
       "      <td>0.864195</td>\n",
       "      <td>0.000061</td>\n",
       "      <td>4</td>\n",
       "    </tr>\n",
       "    <tr>\n",
       "      <th>1</th>\n",
       "      <td>0.05</td>\n",
       "      <td>30</td>\n",
       "      <td>0.870910</td>\n",
       "      <td>0.000061</td>\n",
       "      <td>1</td>\n",
       "    </tr>\n",
       "    <tr>\n",
       "      <th>2</th>\n",
       "      <td>0.5</td>\n",
       "      <td>10</td>\n",
       "      <td>0.869457</td>\n",
       "      <td>0.000819</td>\n",
       "      <td>2</td>\n",
       "    </tr>\n",
       "    <tr>\n",
       "      <th>3</th>\n",
       "      <td>0.5</td>\n",
       "      <td>30</td>\n",
       "      <td>0.866365</td>\n",
       "      <td>0.001822</td>\n",
       "      <td>3</td>\n",
       "    </tr>\n",
       "  </tbody>\n",
       "</table>\n",
       "</div>"
      ],
      "text/plain": [
       "  param_classifier__learning_rate param_classifier__max_leaf_nodes  \\\n",
       "0                            0.05                               10   \n",
       "1                            0.05                               30   \n",
       "2                             0.5                               10   \n",
       "3                             0.5                               30   \n",
       "\n",
       "   mean_test_score  std_test_score  rank_test_score  \n",
       "0         0.864195        0.000061                4  \n",
       "1         0.870910        0.000061                1  \n",
       "2         0.869457        0.000819                2  \n",
       "3         0.866365        0.001822                3  "
      ]
     },
     "execution_count": 74,
     "metadata": {},
     "output_type": "execute_result"
    }
   ],
   "source": [
    "cv_results = pd.DataFrame(model_grid_search.cv_results_)\n",
    "cv_results[[\n",
    "    \"param_classifier__learning_rate\",\n",
    "    \"param_classifier__max_leaf_nodes\",\n",
    "    \"mean_test_score\",\n",
    "    \"std_test_score\",\n",
    "    \"rank_test_score\"\n",
    "]]"
   ]
  },
  {
   "cell_type": "markdown",
   "id": "6f3151c3",
   "metadata": {},
   "source": [
    "The issue here is the evaluation of the __generalization performance__. Indeed, the mean and standard deviation of the scores computed by the cross-validation in the grid-search are potentially __not good estimates of the generalization performance__ we would obtain by refitting a model with the best combination of hyper-parameter values on the full dataset. Note that scikit-learn automatically performs this refit by default when calling `model_grid_search.fit`. This refitted model is trained with more data than the different models trained internally during the cross-validation of the grid-search.\n",
    "\n",
    "We therefore used knowledge from the full dataset to __both__ decide our model’s hyper-parameters and to train the refitted model.\n",
    "\n",
    "Because of the above, one must keep an __external, held-out test set__ for the __final evaluation__ the refitted model. We highlight here the process using a single train-test split."
   ]
  },
  {
   "cell_type": "code",
   "execution_count": 75,
   "id": "657c2061",
   "metadata": {},
   "outputs": [
    {
     "name": "stdout",
     "output_type": "stream",
     "text": [
      "Accuracy on test set: 0.877\n"
     ]
    }
   ],
   "source": [
    "data_train, data_test, target_train, target_test = train_test_split(\n",
    "    data, target, test_size=0.2, random_state=42\n",
    ")\n",
    "\n",
    "model_grid_search.fit(data_train, target_train)\n",
    "accuracy = model_grid_search.score(data_test, target_test)\n",
    "print(f\"Accuracy on test set: {accuracy:.3f}\")"
   ]
  },
  {
   "cell_type": "markdown",
   "id": "a725c28e",
   "metadata": {},
   "source": [
    "The score measure on the final test set is almost with the range of the internal CV score for the best hyper-parameter combination. This is reassuring as it means that the tuning procedure did not cause significant overfitting in itself (other-wise the final test score would have been lower than the internal CV scores). That is expected because our grid search explored very few hyper-parameter combinations for the sake of speed. The test score of the final model is actually a bit higher that what we could have expected from the internal cross-validation. This is also expected because the __refitted model is trained on a larger dataset__ than the models evaluated in the internal CV loop of the grid-search procedure. This is often the case that models trained on a larger number of samples tend to generalize better.\n",
    "\n",
    "In the code above, the __selection of the best hyperparameters was done only on the train set__ from the initial train-test split. Then, we evaluated the generalization performance of our tuned model on the __left out test set__. This can be shown schematically as follows:"
   ]
  },
  {
   "cell_type": "markdown",
   "id": "17a8a843",
   "metadata": {},
   "source": [
    "<img src=\"diagrams/HyperparamCV.jpg\" width=600/>"
   ]
  },
  {
   "cell_type": "markdown",
   "id": "e8e451ec",
   "metadata": {},
   "source": [
    "This figure shows the particular case of `K-fold` cross-validation strategy using n_splits=5 to further split the train set coming from a train-test split. For each cross-validation split, the procedure trains a model on all the red samples, evaluates the score of a given set of hyperparameters on the green samples. The best hyper-parameters are selected based on those intermediate scores.\n",
    "\n",
    "The a final model tuned with those hyper-parameters is fitted on the concatenation of the red and green samples and evaluated on the blue samples.\n",
    "\n",
    "The green samples are sometimes called __validation sets__ to differentiate them from the final test set in blue."
   ]
  },
  {
   "cell_type": "markdown",
   "id": "b56b467f",
   "metadata": {},
   "source": [
    "However, this evaluation only provides us a single point estimate of the generalization performance. Therefore, we should instead use an additional cross-validation for this evaluation."
   ]
  },
  {
   "cell_type": "markdown",
   "id": "1c64ce9c",
   "metadata": {},
   "source": [
    "### (ii) Nested"
   ]
  },
  {
   "cell_type": "markdown",
   "id": "dd33f348",
   "metadata": {},
   "source": [
    "__Nested cross-validation__ uses an __inner__ cross-validation for the selection of the hyperparameters and an __outer__ cross-validation for the evaluation of generalization performance of the refitted tuned model.\n",
    "\n",
    "In practice, we only need to embed the grid-search in the function cross-validate to perform such evaluation."
   ]
  },
  {
   "cell_type": "code",
   "execution_count": 76,
   "id": "e8e2d5fe",
   "metadata": {},
   "outputs": [],
   "source": [
    "cv_results = cross_validate(\n",
    "    model_grid_search, data, target, cv=5, n_jobs=2, return_estimator=True\n",
    ")"
   ]
  },
  {
   "cell_type": "code",
   "execution_count": 77,
   "id": "5910e81e",
   "metadata": {},
   "outputs": [
    {
     "name": "stdout",
     "output_type": "stream",
     "text": [
      "Generalization score with hyperparameters tuning:\n",
      "0.871 +/- 0.003\n"
     ]
    }
   ],
   "source": [
    "cv_results = pd.DataFrame(cv_results)\n",
    "cv_test_scores = cv_results['test_score']\n",
    "print(\n",
    "    \"Generalization score with hyperparameters tuning:\\n\"\n",
    "    f\"{cv_test_scores.mean():.3f} +/- {cv_test_scores.std():.3f}\"\n",
    ")"
   ]
  },
  {
   "cell_type": "markdown",
   "id": "f01236bc",
   "metadata": {},
   "source": [
    "This result is compatible with the test score measured with the string outer train-test split.\n",
    "\n",
    "However, in this case, we can capture the __variability__ of our estimate of the generalization performance thanks to the measure of the __standard-deviation__ of the scores measured in the __outer__ cross-validation."
   ]
  },
  {
   "cell_type": "markdown",
   "id": "42949a2e",
   "metadata": {},
   "source": [
    "<img src=\"diagrams/NestedCV.jpg\" width=600/>"
   ]
  },
  {
   "cell_type": "markdown",
   "id": "3ecc2f3f",
   "metadata": {},
   "source": [
    "This figure illustrates the nested cross-validation strategy using `cv_inner = KFold(n_splits=4)` and `cv_outer = KFold(n_splits=5)`.\n",
    "\n",
    "For each __inner__ cross-validation split (indexed on the left-hand side), the procedure trains a model on all the red samples and evaluate the quality of the hyperparameters on the green samples.\n",
    "\n",
    "For each __outer__ cross-validation split (indexed on the right-hand side), the best hyper-parameters are selected based on the validation scores (computed on the green samples) and a model is refitted on the __concatenation__ of the red and green samples for that outer CV iteration.\n",
    "\n",
    "The generalization performance of the 5 refitted models from the outer CV loop are then evaluated on the blue samples to get the final scores."
   ]
  },
  {
   "cell_type": "markdown",
   "id": "b5ca0e8f",
   "metadata": {},
   "source": [
    "In addition, passing the parameter `return_estimator=True`, we can check the value of the best hyperparameters obtained for each fold of the outer cross-validation."
   ]
  },
  {
   "cell_type": "code",
   "execution_count": 78,
   "id": "a064ef7d",
   "metadata": {},
   "outputs": [
    {
     "name": "stdout",
     "output_type": "stream",
     "text": [
      "Best hyperparameters for fold #1:\n",
      "{'classifier__learning_rate': 0.05, 'classifier__max_leaf_nodes': 30}\n",
      "Best hyperparameters for fold #2:\n",
      "{'classifier__learning_rate': 0.05, 'classifier__max_leaf_nodes': 30}\n",
      "Best hyperparameters for fold #3:\n",
      "{'classifier__learning_rate': 0.05, 'classifier__max_leaf_nodes': 30}\n",
      "Best hyperparameters for fold #4:\n",
      "{'classifier__learning_rate': 0.05, 'classifier__max_leaf_nodes': 30}\n",
      "Best hyperparameters for fold #5:\n",
      "{'classifier__learning_rate': 0.05, 'classifier__max_leaf_nodes': 30}\n"
     ]
    }
   ],
   "source": [
    "for cv_fold, estimator_in_fold in enumerate(cv_results[\"estimator\"]):\n",
    "    print(\n",
    "        f\"Best hyperparameters for fold #{cv_fold + 1}:\\n\"\n",
    "        f\"{estimator_in_fold.best_params_}\"\n",
    "    )"
   ]
  },
  {
   "cell_type": "markdown",
   "id": "69377f95",
   "metadata": {},
   "source": [
    "It is interesting to see whether the hyper-parameter tuning procedure always select similar values for the hyperparameters. If its the case, then all is fine. It means that we can deploy a model fit with those hyperparameters and expect that it will have an actual predictive performance close to what we measured in the outer cross-validation.\n",
    "\n",
    "But it is also possible that some hyperparameters do not matter at all, and as a result in different tuning sessions give different results. In this case, any value will do. This can typically be confirmed by doing a parallel coordinate plot of the results of a large hyperparameter search as seen in the exercises.\n",
    "\n",
    "From a __deployment__ point of view, one could also chose to deploy all the models found by the outer cross-validation loop and make them vote to get the final predictions. However this can cause operational problems because it uses more memory and makes computing prediction slower, resulting in a higher computational resource usage per prediction."
   ]
  },
  {
   "cell_type": "markdown",
   "id": "69b2f5e3",
   "metadata": {},
   "source": [
    "### (iii) Importance of Nested CV"
   ]
  },
  {
   "cell_type": "markdown",
   "id": "3e3dd0fe",
   "metadata": {},
   "source": [
    "When considering the test score of a model without nested CV we must be careful. The misinterpretation would be the following: since this mean score was computed using cross-validation test sets, we could use it to assess the generalization performance of the model trained with the best hyper-parameters.\n",
    "\n",
    "However, we __used this score to pick-up the best model__. It means that we __used knowledge from the test sets__ (i.e. test scores) to select the hyper-parameter of the model itself.\n",
    "\n",
    "Thus, this mean score is __not a fair estimate__ of our testing error. Indeed, it can be too __optimistic__, in particular when running a parameter search on a large grid with many hyper-parameters and many possible values per hyper-parameter. A way to avoid this pitfall is to use a __nested__ cross-validation.\n",
    "\n",
    "In the following, we will use an inner cross-validation to only optimize the hyperparameters. We will also embed this tuning procedure within an outer cross-validation, which is dedicated to estimate the testing error of our tuned model.\n",
    "\n",
    "In this case, our inner cross-validation always gets the __training set__ of the outer cross-validation, making it possible to always compute the final testing scores on __completely independent sets of samples__."
   ]
  },
  {
   "cell_type": "code",
   "execution_count": 79,
   "id": "664e4777",
   "metadata": {},
   "outputs": [],
   "source": [
    "from sklearn.datasets import load_breast_cancer\n",
    "\n",
    "data, target = load_breast_cancer(return_X_y=True)"
   ]
  },
  {
   "cell_type": "code",
   "execution_count": 80,
   "id": "05e709e5",
   "metadata": {},
   "outputs": [],
   "source": [
    "from sklearn.svm import SVC\n",
    "\n",
    "param_grid = {\"C\": [0.1, 1, 10], \"gamma\": [.01, .1]}\n",
    "model_to_tune = SVC()\n",
    "\n",
    "test_score_not_nested = []\n",
    "test_score_nested = []\n",
    "\n",
    "N_TRIALS = 20\n",
    "for i in range(N_TRIALS):\n",
    "    # For each trial, we use cross-validation splits on independently\n",
    "    # randomly shuffled data by passing distinct values to the random_state\n",
    "    # parameter.\n",
    "    inner_cv = KFold(n_splits=5, shuffle=True, random_state=i)\n",
    "    outer_cv = KFold(n_splits=3, shuffle=True, random_state=i)\n",
    "\n",
    "    # Non_nested parameter search and scoring\n",
    "    model = GridSearchCV(estimator=model_to_tune, param_grid=param_grid,\n",
    "                         cv=inner_cv, n_jobs=2)\n",
    "    model.fit(data, target)\n",
    "    test_score_not_nested.append(model.best_score_)\n",
    "\n",
    "    # Nested CV with parameter optimization\n",
    "    test_score = cross_val_score(model, data, target, cv=outer_cv, n_jobs=2)\n",
    "    test_score_nested.append(test_score.mean())"
   ]
  },
  {
   "cell_type": "code",
   "execution_count": 81,
   "id": "26eef5ca",
   "metadata": {},
   "outputs": [],
   "source": [
    "all_scores = {\n",
    "    \"Not nested CV\": test_score_not_nested,\n",
    "    \"Nested CV\": test_score_nested,\n",
    "}\n",
    "all_scores = pd.DataFrame(all_scores)"
   ]
  },
  {
   "cell_type": "code",
   "execution_count": 82,
   "id": "6eed5122",
   "metadata": {},
   "outputs": [
    {
     "data": {
      "image/png": "[encoded data removed]",
      "text/plain": [
       "<Figure size 432x288 with 1 Axes>"
      ]
     },
     "metadata": {
      "needs_background": "light"
     },
     "output_type": "display_data"
    }
   ],
   "source": [
    "color = {\"whiskers\": \"black\", \"medians\": \"black\", \"caps\": \"black\"}\n",
    "all_scores.plot.box(color=color, vert=False)\n",
    "plt.xlabel(\"Accuracy\")\n",
    "_ = plt.title(\"Comparison of mean accuracy obtained on the test sets with\\n\"\n",
    "              \"and without nested cross-validation\")"
   ]
  },
  {
   "cell_type": "markdown",
   "id": "f4af2ed3",
   "metadata": {},
   "source": [
    "We observe that the generalization performance estimated without using nested CV is higher than what we obtain with nested CV.\n",
    "- The reason is that the tuning procedure itself selects the model with the highest inner CV score. \n",
    "\n",
    "If there are many hyper-parameter combinations and if the inner CV scores have comparatively large standard deviations, taking the maximum value can lure the naive data scientist into __over-estimating the true generalization performance__ of the result of the full learning procedure. By using an outer cross-validation procedure one gets a more trustworthy estimate of the generalization performance of the full learning procedure, including the effect of tuning the hyperparameters.\n",
    "\n",
    "As a conclusion, when optimizing parts of the machine learning pipeline (e.g. hyperparameter, transform, etc.), one __needs to use nested cross-validation to evaluate the generalization performance__ of the predictive model. Otherwise, the results obtained without nested cross-validation are often overly optimistic."
   ]
  },
  {
   "cell_type": "markdown",
   "id": "f1726bdf",
   "metadata": {},
   "source": [
    "<a id=\"6\" ></a>\n",
    "# Classification Metrics"
   ]
  },
  {
   "cell_type": "code",
   "execution_count": 83,
   "id": "c4157b2c",
   "metadata": {},
   "outputs": [],
   "source": [
    "# get data\n",
    "blood_transfusion = pd.read_csv(\"datasets/blood_transfusion.csv\")\n",
    "data = blood_transfusion.drop(columns=\"Class\")\n",
    "target = blood_transfusion[\"Class\"]"
   ]
  },
  {
   "cell_type": "code",
   "execution_count": 84,
   "id": "8fc60615",
   "metadata": {},
   "outputs": [],
   "source": [
    "data_train, data_test, target_train, target_test = train_test_split(\n",
    "    data, target, shuffle=True, random_state=0, test_size=0.5)"
   ]
  },
  {
   "cell_type": "code",
   "execution_count": 86,
   "id": "a84db884",
   "metadata": {},
   "outputs": [],
   "source": [
    "# create model\n",
    "classifier = LogisticRegression()\n",
    "# fit model\n",
    "classifier.fit(data_train, target_train)\n",
    "# compute predictions from fitted model\n",
    "target_predicted = classifier.predict(data_test)"
   ]
  },
  {
   "cell_type": "markdown",
   "id": "a0950ad1",
   "metadata": {},
   "source": [
    "### (i) Accuracy\n",
    "The accuracy is how often the model's predictions are correct, and is often used as a baseline of performance."
   ]
  },
  {
   "cell_type": "code",
   "execution_count": 87,
   "id": "24c8a06c",
   "metadata": {},
   "outputs": [
    {
     "data": {
      "text/plain": [
       "0.7780748663101604"
      ]
     },
     "execution_count": 87,
     "metadata": {},
     "output_type": "execute_result"
    }
   ],
   "source": [
    "# compute manually\n",
    "np.mean(target_test == target_predicted)"
   ]
  },
  {
   "cell_type": "code",
   "execution_count": 88,
   "id": "46d45324",
   "metadata": {},
   "outputs": [
    {
     "name": "stdout",
     "output_type": "stream",
     "text": [
      "Accuracy: 0.778\n"
     ]
    }
   ],
   "source": [
    "# use function\n",
    "from sklearn.metrics import accuracy_score\n",
    "\n",
    "accuracy = accuracy_score(target_test, target_predicted)\n",
    "print(f\"Accuracy: {accuracy:.3f}\")"
   ]
  },
  {
   "cell_type": "code",
   "execution_count": 89,
   "id": "6cf7bf39",
   "metadata": {},
   "outputs": [
    {
     "data": {
      "text/plain": [
       "0.7780748663101604"
      ]
     },
     "execution_count": 89,
     "metadata": {},
     "output_type": "execute_result"
    }
   ],
   "source": [
    "# call the score method on the model\n",
    "classifier.score(data_test, target_test)"
   ]
  },
  {
   "cell_type": "markdown",
   "id": "74b57bcf",
   "metadata": {},
   "source": [
    "### (ii) Confusion Matrices"
   ]
  },
  {
   "cell_type": "markdown",
   "id": "58f54d69",
   "metadata": {},
   "source": [
    "Accuracy does not take into account the type of error, but rather aggregates all errors. We may be interested in finer granularity, eg. _false positives_ and _negatives_ (FP and FN) and _true positives_ and _negatives_ (TP and TN)."
   ]
  },
  {
   "cell_type": "code",
   "execution_count": 90,
   "id": "533451df",
   "metadata": {},
   "outputs": [
    {
     "data": {
      "image/png": "[encoded data removed]",
      "text/plain": [
       "<Figure size 432x288 with 2 Axes>"
      ]
     },
     "metadata": {
      "needs_background": "light"
     },
     "output_type": "display_data"
    }
   ],
   "source": [
    "from sklearn.metrics import ConfusionMatrixDisplay\n",
    "\n",
    "_ = ConfusionMatrixDisplay.from_estimator(classifier, data_test, target_test)"
   ]
  },
  {
   "cell_type": "markdown",
   "id": "29ceb674",
   "metadata": {},
   "source": [
    "Once we have split this information, we can compute metrics to highlight the generalization performance of our classifier in a particular setting. For instance, we could be interested in:\n",
    "\n",
    "- the fraction of people who really gave blood when the classifier predicted so or \n",
    "- the fraction of people predicted to have given blood out of the total population that actually did so.\n",
    "\n",
    "1) __precision__, is defined as __TP / (TP + FP)__ and represents how likely the person actually gave blood when the classifier predicted that they did. \n",
    "\n",
    "2) __recall__, defined as __TP / (TP + FN)__ and assesses how well the classifier is able to correctly identify people who did give blood. \n",
    "\n",
    "We could, similarly to accuracy, manually compute these values, however scikit-learn provides functions to compute these statistics."
   ]
  },
  {
   "cell_type": "code",
   "execution_count": 91,
   "id": "a11bb8a8",
   "metadata": {},
   "outputs": [
    {
     "name": "stdout",
     "output_type": "stream",
     "text": [
      "Precision score: 0.688\n",
      "Recall score: 0.124\n"
     ]
    }
   ],
   "source": [
    "from sklearn.metrics import precision_score, recall_score\n",
    "\n",
    "precision = precision_score(target_test, target_predicted, pos_label=\"donated\")\n",
    "recall = recall_score(target_test, target_predicted, pos_label=\"donated\")\n",
    "\n",
    "print(f\"Precision score: {precision:.3f}\")\n",
    "print(f\"Recall score: {recall:.3f}\")"
   ]
  },
  {
   "cell_type": "markdown",
   "id": "8d47b6ac",
   "metadata": {},
   "source": [
    "These results are in line with what was seen in the confusion matrix. Looking at the left column, more than half of the “donated” predictions were correct, leading to a precision above 0.5. However, our classifier mislabeled a lot of people who gave blood as “not donated”, leading to a very low recall of around 0.1."
   ]
  },
  {
   "cell_type": "markdown",
   "id": "8c185ea4",
   "metadata": {},
   "source": [
    "#### Class Imbalances"
   ]
  },
  {
   "cell_type": "code",
   "execution_count": 92,
   "id": "b7fd56dd",
   "metadata": {},
   "outputs": [
    {
     "data": {
      "image/png": "[encoded data removed]",
      "text/plain": [
       "<Figure size 432x288 with 1 Axes>"
      ]
     },
     "metadata": {
      "needs_background": "light"
     },
     "output_type": "display_data"
    }
   ],
   "source": [
    "target.value_counts().plot.barh()\n",
    "plt.xlabel(\"Number of samples\")\n",
    "_ = plt.title(\"Number of samples per classes present\\n in the target\")"
   ]
  },
  {
   "cell_type": "code",
   "execution_count": 94,
   "id": "b46f15b7",
   "metadata": {},
   "outputs": [
    {
     "name": "stdout",
     "output_type": "stream",
     "text": [
      "Accuracy of the dummy classifier: 0.762\n"
     ]
    }
   ],
   "source": [
    "from sklearn.dummy import DummyClassifier\n",
    "\n",
    "dummy_classifier = DummyClassifier(strategy=\"most_frequent\")\n",
    "dummy_classifier.fit(data_train, target_train)\n",
    "print(f\"Accuracy of the dummy classifier: \"\n",
    "      f\"{dummy_classifier.score(data_test, target_test):.3f}\")"
   ]
  },
  {
   "cell_type": "markdown",
   "id": "4d2d2075",
   "metadata": {},
   "source": [
    "With the dummy classifier, which always predicts the __negative class 'not donated'__, we obtain an accuracy score of 76%. Therefore, it means that this classifier, __without learning anything from the data data, is capable of predicting as accurately as our logistic regression model__.\n",
    "\n",
    "The problem illustrated above is also known as the class imbalance problem. __When the classes are imbalanced, accuracy should not be used__. In this case, one should either use the __precision__ and __recall__ as presented above or the __balanced accuracy score__ instead of accuracy."
   ]
  },
  {
   "cell_type": "code",
   "execution_count": 95,
   "id": "5da28124",
   "metadata": {},
   "outputs": [
    {
     "name": "stdout",
     "output_type": "stream",
     "text": [
      "Balanced accuracy: 0.553\n"
     ]
    }
   ],
   "source": [
    "from sklearn.metrics import balanced_accuracy_score\n",
    "\n",
    "balanced_accuracy = balanced_accuracy_score(target_test, target_predicted)\n",
    "print(f\"Balanced accuracy: {balanced_accuracy:.3f}\")"
   ]
  },
  {
   "cell_type": "markdown",
   "id": "e62716a0",
   "metadata": {},
   "source": [
    "The balanced accuracy is equivalent to accuracy in the context of balanced classes. It is defined as the average recall obtained on each class."
   ]
  },
  {
   "cell_type": "markdown",
   "id": "e014258f",
   "metadata": {},
   "source": [
    "### (iii) Probability Thresholds"
   ]
  },
  {
   "cell_type": "markdown",
   "id": "e8ecf8a7",
   "metadata": {},
   "source": [
    "`classifier.predict` outputs the most likely label. We haven’t made use of the __probability__ associated with this prediction, which gives the confidence of the classifier in this prediction. By __default__, the prediction of a classifier corresponds to a __threshold of 0.5 probability__ in a binary classification problem. We can quickly check this relationship with the classifier that we trained."
   ]
  },
  {
   "cell_type": "code",
   "execution_count": 96,
   "id": "c5a5cfed",
   "metadata": {},
   "outputs": [
    {
     "data": {
      "text/html": [
       "<div>\n",
       "<style scoped>\n",
       "    .dataframe tbody tr th:only-of-type {\n",
       "        vertical-align: middle;\n",
       "    }\n",
       "\n",
       "    .dataframe tbody tr th {\n",
       "        vertical-align: top;\n",
       "    }\n",
       "\n",
       "    .dataframe thead th {\n",
       "        text-align: right;\n",
       "    }\n",
       "</style>\n",
       "<table border=\"1\" class=\"dataframe\">\n",
       "  <thead>\n",
       "    <tr style=\"text-align: right;\">\n",
       "      <th></th>\n",
       "      <th>donated</th>\n",
       "      <th>not donated</th>\n",
       "    </tr>\n",
       "  </thead>\n",
       "  <tbody>\n",
       "    <tr>\n",
       "      <th>0</th>\n",
       "      <td>0.271820</td>\n",
       "      <td>0.728180</td>\n",
       "    </tr>\n",
       "    <tr>\n",
       "      <th>1</th>\n",
       "      <td>0.451764</td>\n",
       "      <td>0.548236</td>\n",
       "    </tr>\n",
       "    <tr>\n",
       "      <th>2</th>\n",
       "      <td>0.445211</td>\n",
       "      <td>0.554789</td>\n",
       "    </tr>\n",
       "    <tr>\n",
       "      <th>3</th>\n",
       "      <td>0.441577</td>\n",
       "      <td>0.558423</td>\n",
       "    </tr>\n",
       "    <tr>\n",
       "      <th>4</th>\n",
       "      <td>0.870583</td>\n",
       "      <td>0.129417</td>\n",
       "    </tr>\n",
       "  </tbody>\n",
       "</table>\n",
       "</div>"
      ],
      "text/plain": [
       "    donated  not donated\n",
       "0  0.271820     0.728180\n",
       "1  0.451764     0.548236\n",
       "2  0.445211     0.554789\n",
       "3  0.441577     0.558423\n",
       "4  0.870583     0.129417"
      ]
     },
     "execution_count": 96,
     "metadata": {},
     "output_type": "execute_result"
    }
   ],
   "source": [
    "target_proba_predicted = pd.DataFrame(classifier.predict_proba(data_test),\n",
    "                                      columns=classifier.classes_)\n",
    "target_proba_predicted[:5]"
   ]
  },
  {
   "cell_type": "markdown",
   "id": "a9adab71",
   "metadata": {},
   "source": [
    "Since probabilities sum to 1 we can get the class with the highest probability without using the threshold 0.5."
   ]
  },
  {
   "cell_type": "code",
   "execution_count": 101,
   "id": "500635d9",
   "metadata": {},
   "outputs": [
    {
     "data": {
      "text/plain": [
       "True"
      ]
     },
     "execution_count": 101,
     "metadata": {},
     "output_type": "execute_result"
    }
   ],
   "source": [
    "equivalence_pred_proba = (\n",
    "    # max prob for Donated vs Not Donated == Prediction of Donated vs Not Donated\n",
    "    target_proba_predicted.idxmax(axis=1).to_numpy() == target_predicted)\n",
    "# test if all elements in the array are true\n",
    "np.all(equivalence_pred_proba)"
   ]
  },
  {
   "cell_type": "markdown",
   "id": "4880ff86",
   "metadata": {},
   "source": [
    "#### <ins>Precision-Recall Curve</ins>\n",
    "The default __decision threshold__ (0.5) might not be the best threshold that leads to optimal generalization performance of our classifier. In this case, one can vary the decision threshold (eg. lower it if it is important to catch all positives (fewer false negatives), like for virus cases, even though this would increase the number of false positives), and therefore the underlying prediction, and compute the same statistics presented earlier.\n",
    "\n",
    "Usually, the two metrics recall and precision are computed and plotted on a graph. Each metric plotted on a graph axis and each point on the graph corresponds to a specific decision threshold. Let’s start by computing the precision-recall curve."
   ]
  },
  {
   "cell_type": "code",
   "execution_count": 102,
   "id": "710d43e5",
   "metadata": {},
   "outputs": [
    {
     "data": {
      "image/png": "[encoded data removed]",
      "text/plain": [
       "<Figure size 432x288 with 1 Axes>"
      ]
     },
     "metadata": {
      "needs_background": "light"
     },
     "output_type": "display_data"
    }
   ],
   "source": [
    "from sklearn.metrics import PrecisionRecallDisplay\n",
    "\n",
    "disp = PrecisionRecallDisplay.from_estimator(\n",
    "    classifier, data_test, target_test, pos_label='donated',\n",
    "    marker=\"+\"\n",
    ")\n",
    "_ = disp.ax_.set_title(\"Precision-recall curve\")"
   ]
  },
  {
   "cell_type": "markdown",
   "id": "c476b0d4",
   "metadata": {},
   "source": [
    "On this curve, each blue cross corresponds to a level of probability which we used as a decision threshold. We can see that, by varying this decision threshold, we get different precision vs. recall values.\n",
    "\n",
    "A __perfect classifier would have a precision of 1 for all recall values__. A metric characterizing the curve is linked to the area under the curve (AUC) and is named _average precision (AP)_. With an ideal classifier, the average precision would be 1.\n",
    "\n",
    "#### <ins>ROC Curve</ins>\n",
    "\n",
    "The __precision and recall metric focuses on the positive class__, however, one might be interested in the compromise between accurately discriminating the positive class and accurately discriminating the negative classes (by changing the __threshold probability__); eg. increasing the threshold would lead to fewer false positives, but would create more false negatives, but by how much? The statistics used for this are __sensitivity__ and __specificity__. \n",
    "- __Sensitivity__ is just another name for recall (True Positive rate: TN / (TN + FN), meaning what proportion of the actual positives were classed as positive by the model). \n",
    "- __Specificity__ measures the proportion of the actual negatives were classed as negative by the model). ;  TN / (TN + FP).\n",
    "    - The False Positive rate = 1 - Specificity (ie. FP / (TN + FP) )\n",
    "\n",
    "Similar to the precision-recall curve, sensitivity and specificity are generally plotted as a curve called the __receiver operating characteristic (ROC) curve__. It will plot the results of different threshold probabilities.\n",
    "- If the threshold is so low that every result is classed as positive, then the True Positive rate would be 1 (all positives classed as positives) and the False Negative rate would __also__ be 1 (every negative classed as positive).\n",
    "- If the threshold is so high that every result is classed as negative, then the True Positive rate would be 0 (all positives classed as negatives) and the False Negative rate would __also__ be 0 (every negative classed as negative).\n",
    "\n",
    "Below is such a curve:"
   ]
  },
  {
   "cell_type": "code",
   "execution_count": 103,
   "id": "2c7bc9b3",
   "metadata": {},
   "outputs": [
    {
     "data": {
      "image/png": "[encoded data removed]",
      "text/plain": [
       "<Figure size 432x288 with 1 Axes>"
      ]
     },
     "metadata": {
      "needs_background": "light"
     },
     "output_type": "display_data"
    }
   ],
   "source": [
    "from sklearn.metrics import RocCurveDisplay\n",
    "\n",
    "disp = RocCurveDisplay.from_estimator(\n",
    "    classifier, data_test, target_test, pos_label='donated',\n",
    "    marker=\"+\")\n",
    "disp = RocCurveDisplay.from_estimator(\n",
    "    dummy_classifier, data_test, target_test, pos_label='donated',\n",
    "    color=\"tab:orange\", linestyle=\"--\", ax=disp.ax_)\n",
    "_ = disp.ax_.set_title(\"ROC AUC curve\")"
   ]
  },
  {
   "cell_type": "markdown",
   "id": "54e419a1",
   "metadata": {},
   "source": [
    "This curve was built using the same principle as the precision-recall curve: we vary the probability threshold for determining “hard” prediction and compute the metrics. As with the precision-recall curve, we can compute the area under the ROC (ROC-AUC) to characterize the generalization performance of our classifier. However, it is important to observe that __the lower bound of the ROC-AUC is 0.5__. Indeed, we show the generalization performance of a dummy classifier (the orange dashed line) to show that even the worst generalization performance obtained will be above this line."
   ]
  },
  {
   "cell_type": "markdown",
   "id": "be1968d5",
   "metadata": {},
   "source": [
    "<a id=\"7\" ></a>\n",
    "# Regression Metrics"
   ]
  },
  {
   "cell_type": "code",
   "execution_count": 104,
   "id": "edd416d0",
   "metadata": {},
   "outputs": [],
   "source": [
    "# load data\n",
    "ames_housing = pd.read_csv(\"datasets/house_prices.csv\")\n",
    "data = ames_housing.drop(columns=\"SalePrice\")\n",
    "target = ames_housing[\"SalePrice\"]\n",
    "data = data.select_dtypes(np.number)\n",
    "target /= 1000"
   ]
  },
  {
   "cell_type": "code",
   "execution_count": 105,
   "id": "65b6fc67",
   "metadata": {},
   "outputs": [],
   "source": [
    "data_train, data_test, target_train, target_test = train_test_split(\n",
    "    data, target, shuffle=True, random_state=0\n",
    ")"
   ]
  },
  {
   "cell_type": "markdown",
   "id": "394a5be4",
   "metadata": {},
   "source": [
    "### (i) MSE\n",
    "Some machine learning models are designed to be solved as an optimization problem: minimizing an error (also known as the __loss function__) using a training set. A basic loss function used in regression is the __mean squared error (MSE)__. \n",
    "- The __MSE__ is the mean of the square of all the errors (the distance of the point from the regression line).\n",
    "\n",
    "Thus, this metric is sometimes used to evaluate the model since it is optimized by said model."
   ]
  },
  {
   "cell_type": "code",
   "execution_count": 108,
   "id": "a6232dda",
   "metadata": {},
   "outputs": [
    {
     "name": "stdout",
     "output_type": "stream",
     "text": [
      "Mean squared error on the training set: 996.902\n"
     ]
    }
   ],
   "source": [
    "from sklearn.linear_model import LinearRegression\n",
    "from sklearn.metrics import mean_squared_error\n",
    "\n",
    "# make model\n",
    "regressor = LinearRegression()\n",
    "# train the model\n",
    "regressor.fit(data_train, target_train)\n",
    "# compute predictions from trained model\n",
    "target_predicted = regressor.predict(data_train)\n",
    "\n",
    "print(f\"Mean squared error on the training set: \"\n",
    "      f\"{mean_squared_error(target_train, target_predicted):.3f}\")"
   ]
  },
  {
   "cell_type": "markdown",
   "id": "787967ac",
   "metadata": {},
   "source": [
    "Our linear regression model is minimizing the mean squared error on the _training set_. It means that there is no other set of coefficients which will decrease the error.\n",
    "\n",
    "Then, we can compute the mean squared error on the test set."
   ]
  },
  {
   "cell_type": "code",
   "execution_count": 109,
   "id": "af619405",
   "metadata": {},
   "outputs": [
    {
     "name": "stdout",
     "output_type": "stream",
     "text": [
      "Mean squared error on the testing set: 2064.736\n"
     ]
    }
   ],
   "source": [
    "target_predicted = regressor.predict(data_test)\n",
    "\n",
    "print(f\"Mean squared error on the testing set: \"\n",
    "      f\"{mean_squared_error(target_test, target_predicted):.3f}\")"
   ]
  },
  {
   "cell_type": "markdown",
   "id": "bbd6dd74",
   "metadata": {},
   "source": [
    "### (ii) R2\n",
    "The raw MSE can be difficult to interpret. One way is to rescale the MSE by the __variance of the target__. This score is known as the __R2__, also called the _coefficient of determination_. Indeed, this is the default score used in scikit-learn by calling the method `score`."
   ]
  },
  {
   "cell_type": "code",
   "execution_count": 110,
   "id": "1821346b",
   "metadata": {},
   "outputs": [
    {
     "data": {
      "text/plain": [
       "0.6872520581075728"
      ]
     },
     "execution_count": 110,
     "metadata": {},
     "output_type": "execute_result"
    }
   ],
   "source": [
    "regressor.score(data_test, target_test)"
   ]
  },
  {
   "cell_type": "markdown",
   "id": "940ba6ad",
   "metadata": {},
   "source": [
    "The R2 score represents the proportion of variance of the target that is explained by the independent variables in the model. The best score possible is 1 but there is __no lower bound__. However, a model that predicts the expected value of the target would get a score of 0.\n",
    "- R2 = ( Var(mean) - Var(regression line) ) / Var(mean)\n",
    "    - The variance from the mean will be the largest variance possible\n",
    "    - The R2 score is the percentage less variation the model has than the mean\n",
    "    - The R2 score shows what proportion of the variance in the target is explained by the features in the model\n",
    "- Variance: σ² = ( Σ (x-μ)² ) / N\n",
    "    - μ is the mean\n",
    "    - x is the actual value\n",
    "    - N is the number of data points"
   ]
  },
  {
   "cell_type": "code",
   "execution_count": 111,
   "id": "411aa3ba",
   "metadata": {},
   "outputs": [
    {
     "name": "stdout",
     "output_type": "stream",
     "text": [
      "R2 score for a regressor predicting the mean:-0.000\n"
     ]
    }
   ],
   "source": [
    "dummy_regressor = DummyRegressor(strategy=\"mean\")\n",
    "dummy_regressor.fit(data_train, target_train)\n",
    "print(f\"R2 score for a regressor predicting the mean:\"\n",
    "      f\"{dummy_regressor.score(data_test, target_test):.3f}\")"
   ]
  },
  {
   "cell_type": "markdown",
   "id": "eb943605",
   "metadata": {},
   "source": [
    "### (iii) Absolute Error\n",
    "The R2 score gives insight into the quality of the model’s fit. However, \n",
    "- this score cannot be compared from one dataset to another \n",
    "- the value obtained does not have a meaningful interpretation relative to the original unit of the target. \n",
    "\n",
    "If we wanted to get an interpretable score, we would be interested in the median or mean absolute error."
   ]
  },
  {
   "cell_type": "code",
   "execution_count": 113,
   "id": "17a1f20e",
   "metadata": {},
   "outputs": [
    {
     "name": "stdout",
     "output_type": "stream",
     "text": [
      "Mean absolute error: 22.608 k$\n"
     ]
    }
   ],
   "source": [
    "from sklearn.metrics import mean_absolute_error\n",
    "\n",
    "target_predicted = regressor.predict(data_test)\n",
    "print(f\"Mean absolute error: \"\n",
    "      f\"{mean_absolute_error(target_test, target_predicted):.3f} k$\")"
   ]
  },
  {
   "cell_type": "markdown",
   "id": "20a173b7",
   "metadata": {},
   "source": [
    "By computing the mean absolute error, we can interpret that our model is predicting on average 22.6 k$ away from the true house price. A disadvantage of this metric is that the mean can be impacted by large error. For some applications, we might not want these large errors to have such a big influence on our metric. In this case we can use the median absolute error."
   ]
  },
  {
   "cell_type": "code",
   "execution_count": 114,
   "id": "7afb7b4f",
   "metadata": {},
   "outputs": [
    {
     "name": "stdout",
     "output_type": "stream",
     "text": [
      "Median absolute error: 14.137 k$\n"
     ]
    }
   ],
   "source": [
    "from sklearn.metrics import median_absolute_error\n",
    "\n",
    "print(f\"Median absolute error: \"\n",
    "      f\"{median_absolute_error(target_test, target_predicted):.3f} k$\")"
   ]
  },
  {
   "cell_type": "markdown",
   "id": "014d6bd0",
   "metadata": {},
   "source": [
    "### (iv) Absolute Percentage Error\n",
    "The mean absolute error (or median absolute error) still have a known limitation: committing an error of 50 k for a house valued at 50 k has the same impact than committing an error of 50 k$ for a house valued at 500 k. Indeed, the mean absolute error is not relative.\n",
    "\n",
    "The mean absolute percentage error introduces this relative scaling."
   ]
  },
  {
   "cell_type": "code",
   "execution_count": 115,
   "id": "a855ca09",
   "metadata": {},
   "outputs": [
    {
     "name": "stdout",
     "output_type": "stream",
     "text": [
      "Mean absolute percentage error: 13.574 %\n"
     ]
    }
   ],
   "source": [
    "from sklearn.metrics import mean_absolute_percentage_error\n",
    "\n",
    "print(f\"Mean absolute percentage error: \"\n",
    "      f\"{mean_absolute_percentage_error(target_test, target_predicted) * 100:.3f} %\")"
   ]
  },
  {
   "cell_type": "markdown",
   "id": "d8006f23",
   "metadata": {},
   "source": [
    "### (v) Visual Evaluation"
   ]
  },
  {
   "cell_type": "code",
   "execution_count": 117,
   "id": "e3fe6f10",
   "metadata": {},
   "outputs": [],
   "source": [
    "predicted_actual = {\n",
    "    \"True values (k$)\": target_test, \"Predicted values (k$)\": target_predicted}\n",
    "predicted_actual = pd.DataFrame(predicted_actual)"
   ]
  },
  {
   "cell_type": "code",
   "execution_count": 120,
   "id": "7196927e",
   "metadata": {},
   "outputs": [
    {
     "data": {
      "image/png": "[encoded data removed]",
      "text/plain": [
       "<Figure size 432x288 with 1 Axes>"
      ]
     },
     "metadata": {
      "needs_background": "light"
     },
     "output_type": "display_data"
    }
   ],
   "source": [
    "sns.scatterplot(data=predicted_actual,\n",
    "                x=\"True values (k$)\", y=\"Predicted values (k$)\",\n",
    "                color=\"black\", alpha=0.5)\n",
    "# plot desired line of perfect predictions\n",
    "plt.axline((0, 0), slope=1, label=\"Perfect fit\")\n",
    "plt.axis('square')\n",
    "_ = plt.title(\"Regression using a model without \\ntarget transformation\")"
   ]
  },
  {
   "cell_type": "markdown",
   "id": "e3033df8",
   "metadata": {},
   "source": [
    "On this plot, correct predictions would lie on the diagonal line. This plot allows us to detect if the model makes errors in a consistent way, i.e. has some bias.\n",
    "\n",
    "On this plot, we see that for the large `True` price values, our model tends to under-estimate the price of the house. Typically, this issue arises when the target to predict does not follow a normal distribution. In this case the model would benefit from target transformation."
   ]
  },
  {
   "cell_type": "code",
   "execution_count": 121,
   "id": "4e6a2aa3",
   "metadata": {},
   "outputs": [],
   "source": [
    "from sklearn.preprocessing import QuantileTransformer\n",
    "from sklearn.compose import TransformedTargetRegressor\n",
    "\n",
    "transformer = QuantileTransformer(\n",
    "    n_quantiles=900, output_distribution=\"normal\")\n",
    "\n",
    "model_transformed_target = TransformedTargetRegressor(\n",
    "    regressor=regressor, transformer=transformer)\n",
    "\n",
    "model_transformed_target.fit(data_train, target_train)\n",
    "\n",
    "target_predicted = model_transformed_target.predict(data_test)"
   ]
  },
  {
   "cell_type": "code",
   "execution_count": 122,
   "id": "277b4bb3",
   "metadata": {},
   "outputs": [],
   "source": [
    "predicted_actual = {\n",
    "    \"True values (k$)\": target_test, \"Predicted values (k$)\": target_predicted}\n",
    "predicted_actual = pd.DataFrame(predicted_actual)"
   ]
  },
  {
   "cell_type": "code",
   "execution_count": 123,
   "id": "73510d7b",
   "metadata": {},
   "outputs": [
    {
     "data": {
      "image/png": "[encoded data removed]",
      "text/plain": [
       "<Figure size 432x288 with 1 Axes>"
      ]
     },
     "metadata": {
      "needs_background": "light"
     },
     "output_type": "display_data"
    }
   ],
   "source": [
    "sns.scatterplot(data=predicted_actual,\n",
    "                x=\"True values (k$)\", y=\"Predicted values (k$)\",\n",
    "                color=\"black\", alpha=0.5)\n",
    "plt.axline((0, 0), slope=1, label=\"Perfect fit\")\n",
    "plt.axis('square')\n",
    "plt.legend()\n",
    "_ = plt.title(\"Regression using a model that\\n transform the target before \"\n",
    "              \"fitting\")"
   ]
  },
  {
   "cell_type": "markdown",
   "id": "9ee923a9",
   "metadata": {},
   "source": [
    "Thus, once we transformed the target, we see that we corrected some of the high values."
   ]
  },
  {
   "cell_type": "code",
   "execution_count": null,
   "id": "bc2b640e",
   "metadata": {},
   "outputs": [],
   "source": []
  }
 ],
 "metadata": {
  "kernelspec": {
   "display_name": "Python 3 (ipykernel)",
   "language": "python",
   "name": "python3"
  },
  "language_info": {
   "codemirror_mode": {
    "name": "ipython",
    "version": 3
   },
   "file_extension": ".py",
   "mimetype": "text/x-python",
   "name": "python",
   "nbconvert_exporter": "python",
   "pygments_lexer": "ipython3",
   "version": "3.8.12"
  }
 },
 "nbformat": 4,
 "nbformat_minor": 5
}
